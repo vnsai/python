{
 "cells": [
  {
   "cell_type": "markdown",
   "metadata": {},
   "source": [
    "### cs-1\n",
    "\n",
    "# Numpy \n",
    "_______________________________________________________________________________________________________________________\n",
    "\n",
    "## Topics:\n",
    "\n",
    "**Intro to numpy,\n",
    "Ndarray Object,\n",
    "Eg Array creation, \n",
    "Array Attributes**\n",
    "\n"
   ]
  },
  {
   "cell_type": "markdown",
   "metadata": {},
   "source": [
    "### Numpy:\n",
    "\n",
    "NumPy is the fundamental package needed for scientific computing with Python. It contains:\n",
    "\n",
    "a powerful N-dimensional array object\n",
    "basic linear algebra functions\n",
    "basic Fourier transforms\n",
    "sophisticated random number capabilities\n",
    "\n",
    "Extra features:\n",
    "–fast, multidimensional arrays\n",
    "–libraries of reliable, tested scientiﬁc functions\n",
    "–plotting tools\n",
    "\n",
    "**NumPy is at the core of nearly every scientific Python application or module since it provides a fast N-d array datatype that can be manipulated in a vectorized form.\n",
    "\n",
    "\n",
    "\n"
   ]
  },
  {
   "cell_type": "markdown",
   "metadata": {},
   "source": [
    "## Why we need numpy ?\n",
    "\n",
    "Lists ok for storing small amounts of one-dimensional data.\n",
    "But, can’t use directly with arithmetical operators (+, -, *, /, …)\n",
    "Need efficient arrays with arithmetic and better multidimensional tools\n",
    "\n",
    "### How Numpy is useful\n",
    "\n",
    "Similar to lists, but much more capable, except ﬁxed size\n",
    "NumPy is a hybrid of the older **NumArray and Numeric packages** , and is meant to replace them both.\n",
    "\n",
    "NumPy adds a new data structure to Python – the ndarray.\n",
    "An N-dimensional array is a homogeneous collection of “items” indexed using N integers\n",
    "\n",
    "**Defined by**:\n",
    "The shape of the array,kind of item the array is composed of.\n",
    "\n",
    "\n",
    "\n",
    "\n",
    "\n",
    "\n",
    "\n",
    "\n",
    "\n",
    "\n",
    "\n"
   ]
  },
  {
   "cell_type": "code",
   "execution_count": 2,
   "metadata": {
    "collapsed": true
   },
   "outputs": [],
   "source": [
    "import numpy as np\n",
    "\n",
    "import numpy.matlib"
   ]
  },
  {
   "cell_type": "markdown",
   "metadata": {},
   "source": [
    "Every ndarray is a homogeneous collection of exactly the same data-type\n",
    "every item takes up the same size block of memory\n",
    "each block of memory in the array is interpreted in exactly the same way.\n",
    "\n",
    "\n",
    "**Array Creation** : \n",
    "There are a number of ways to initialize new numpy arrays, for example from\n",
    "– a Python list or tuples\n",
    "– using functions that are dedicated to generating numpy arrays, such as arange, linspace, etc.\n",
    "– reading data from files\n",
    "\n",
    "\n"
   ]
  },
  {
   "cell_type": "markdown",
   "metadata": {},
   "source": [
    "### The basic ndarray is created using an array function in NumPy: numpy.array\n",
    "\n",
    "***syntax*** : numpy.array(object, dtype = None, copy = True, order = None, subok = False, ndmin = 0)\n",
    "returns a array object\n",
    "\n",
    "\n",
    "\n",
    "\n",
    "\n",
    "\n",
    "\n",
    "\n",
    "\n",
    "\n",
    "\n",
    " \n",
    "\n",
    "\n"
   ]
  },
  {
   "cell_type": "code",
   "execution_count": 12,
   "metadata": {},
   "outputs": [
    {
     "name": "stdout",
     "output_type": "stream",
     "text": [
      "One dim \n",
      "[1 2 3 4]\n",
      "<class 'numpy.ndarray'>\n",
      "Two dims\n",
      "[[1 2]\n",
      " [3 4]]\n",
      "Two dimensional\n",
      "2\n",
      "(1, 5)\n",
      "[[1 2 3 4 5]]\n"
     ]
    },
    {
     "data": {
      "text/plain": [
       "array([ 1.+0.j,  2.+0.j,  3.+0.j])"
      ]
     },
     "execution_count": 12,
     "metadata": {},
     "output_type": "execute_result"
    }
   ],
   "source": [
    "\n",
    "\n",
    "# Eg : one dimensional\n",
    "a = np.array([1,2,3,4])\n",
    "\n",
    "print(\"One dim \")\n",
    "print(a)\n",
    "print(type(a))\n",
    "#more than one dimension\n",
    "b = np.array([[1, 2], [3, 4]]) \n",
    "print(\"Two dims\")\n",
    "print(b)\n",
    "\n",
    "\n",
    "#using ndim\n",
    "c=np.array([1,2,3,4,5], ndmin = 2) \n",
    "print(\"Two dimensional\")\n",
    "print(c.ndim)\n",
    "print(c.shape)\n",
    "print(c)\n",
    "\n",
    "#dtype:\n",
    "np.array([1, 2, 3], dtype = complex) "
   ]
  },
  {
   "cell_type": "markdown",
   "metadata": {},
   "source": [
    "### Numpy Attributes :\n",
    "\n",
    "NumPy’s array class is called ndarray. It is also known by the alias array. Note that numpy.array is not the same as the Standard Python Library class array.array, which only handles one-dimensional arrays and offers less functionality.\n",
    "\n",
    "** ndarray.ndim **\n",
    "the number of axes (dimensions) of the array. In the Python world, the number of dimensions is referred to as rank.This array attribute returns a tuple consisting of array dimensions.\n",
    "\n",
    "\n",
    "\n",
    "\n",
    "\n",
    "\n",
    "\n"
   ]
  },
  {
   "cell_type": "code",
   "execution_count": 5,
   "metadata": {},
   "outputs": [
    {
     "name": "stdout",
     "output_type": "stream",
     "text": [
      "[[1 2 3]\n",
      " [4 5 6]]\n"
     ]
    }
   ],
   "source": [
    "arrey=np.array([[1,2,3],[4,5,6]]) \n",
    "arrey.ndim\n",
    "print(arrey)"
   ]
  },
  {
   "cell_type": "markdown",
   "metadata": {},
   "source": [
    "**ndarray.shape**\n",
    "the dimensions of the array. This is a tuple of integers indicating the size of the array in each dimension. For a matrix with n rows and m columns, shape will be (n,m). The length of the shape tuple is therefore the rank, or number of dimensions, ndim."
   ]
  },
  {
   "cell_type": "code",
   "execution_count": 16,
   "metadata": {},
   "outputs": [
    {
     "name": "stdout",
     "output_type": "stream",
     "text": [
      "[[1 2 3]\n",
      " [4 5 6]]\n",
      "(2, 3)\n",
      "[[1 2]\n",
      " [3 4]\n",
      " [5 6]]\n",
      "[[1 2 3]\n",
      " [4 5 6]]\n"
     ]
    }
   ],
   "source": [
    "\n",
    "arrey = np.array([[1,2,3],[4,5,6]]) \n",
    "print(arrey)\n",
    "\n",
    "print(arrey.shape)\n",
    "\n",
    "#resize ndarray\n",
    "arrey = np.array([[1,2,3],[4,5,6]]) \n",
    "arrey.shape = (3,2)\n",
    "print(arrey)\n",
    "\n",
    "#Resize: NumPy also provides a reshape function to resize an array.\n",
    "barray = arrey.reshape(2,3) \n",
    "print(barray)\n"
   ]
  },
  {
   "cell_type": "markdown",
   "metadata": {},
   "source": [
    "**ndarray.size** :\n",
    " Total number of elements of the array. This is equal to the product of the elements of shape.\n",
    "\n"
   ]
  },
  {
   "cell_type": "code",
   "execution_count": 17,
   "metadata": {},
   "outputs": [
    {
     "data": {
      "text/plain": [
       "6"
      ]
     },
     "execution_count": 17,
     "metadata": {},
     "output_type": "execute_result"
    }
   ],
   "source": [
    "arrey.size\n",
    "\n"
   ]
  },
  {
   "cell_type": "markdown",
   "metadata": {},
   "source": [
    "**ndarray.dtype :**\n",
    "an object describing the type of the elements in the array. One can create or specify dtype’s using standard Python types. Additionally NumPy provides types of its own. numpy.int32, numpy.int16, and numpy.float64 are some examples.\n"
   ]
  },
  {
   "cell_type": "code",
   "execution_count": 18,
   "metadata": {},
   "outputs": [
    {
     "data": {
      "text/plain": [
       "dtype('int32')"
      ]
     },
     "execution_count": 18,
     "metadata": {},
     "output_type": "execute_result"
    }
   ],
   "source": [
    "arrey.dtype"
   ]
  },
  {
   "cell_type": "markdown",
   "metadata": {},
   "source": [
    "**ndarray.iteamsize:**\n",
    "This array attribute returns the length of each element of array in bytes."
   ]
  },
  {
   "cell_type": "code",
   "execution_count": 20,
   "metadata": {},
   "outputs": [
    {
     "data": {
      "text/plain": [
       "4"
      ]
     },
     "execution_count": 20,
     "metadata": {},
     "output_type": "execute_result"
    }
   ],
   "source": [
    "#ax = np.array([1,2,3,4,5], dtype = np.int16) \n",
    "\n",
    "ax = np.array([1,2,3,4,5], dtype = np.float32) \n",
    "\n",
    "ax.itemsize"
   ]
  },
  {
   "cell_type": "markdown",
   "metadata": {},
   "source": [
    "**ndarray.data**\n",
    "the buffer containing the actual elements of the array. Normally, we won’t need to use this attribute because we will access the elements in an array using indexing facilities."
   ]
  },
  {
   "cell_type": "code",
   "execution_count": 21,
   "metadata": {},
   "outputs": [
    {
     "data": {
      "text/plain": [
       "<memory at 0x000002EB6C9D4C48>"
      ]
     },
     "execution_count": 21,
     "metadata": {},
     "output_type": "execute_result"
    }
   ],
   "source": [
    "ax.data"
   ]
  },
  {
   "cell_type": "markdown",
   "metadata": {},
   "source": [
    "### CS-2\n",
    "\n",
    "### Topics\n",
    "**Data types,Array creation,\n",
    "Numeric Ranges,Indexing and slicing**.\n",
    "\n"
   ]
  },
  {
   "cell_type": "markdown",
   "metadata": {},
   "source": [
    "### dtype:\n",
    "\n",
    "A dtype object is constructed using the following \n",
    "\n",
    "syntax −\n",
    "**numpy.dtype(object, align, copy)**\n",
    "\n",
    "Object − To be converted to data type object\n",
    "\n",
    "Align − If true, adds padding to the field to make it similar to C-struct\n",
    "\n",
    "Copy − Makes a new copy of dtype object. If false, the result is reference to builtin data type object."
   ]
  },
  {
   "cell_type": "code",
   "execution_count": 2,
   "metadata": {},
   "outputs": [
    {
     "data": {
      "text/plain": [
       "dtype('int32')"
      ]
     },
     "execution_count": 2,
     "metadata": {},
     "output_type": "execute_result"
    }
   ],
   "source": [
    "dt = np.dtype(np.int32) \n",
    "dt"
   ]
  },
  {
   "cell_type": "markdown",
   "metadata": {},
   "source": [
    "### Array creation: \n",
    "\n",
    "NumPy offers several functions to create arrays with initial placeholder content.\n",
    "\n",
    "**numpy.empty**\n",
    "\n",
    "Syntax: **numpy.empty(shape, dtype = float, order = 'C')**\n",
    "\n",
    "Shape : Shape of an empty array in int or tuple of int\n",
    "\n",
    "Dtype  : Desired output data type. Optional\n",
    "\n",
    "Order   :'C' for C-style row-major array, 'F' for FORTRAN style column-major array\n"
   ]
  },
  {
   "cell_type": "code",
   "execution_count": 4,
   "metadata": {},
   "outputs": [
    {
     "data": {
      "text/plain": [
       "array([[6881388, 6881378, 6357101],\n",
       "       [7077996, 6488175, 6553646],\n",
       "       [7077996, 5505024, 5046367]])"
      ]
     },
     "execution_count": 4,
     "metadata": {},
     "output_type": "execute_result"
    }
   ],
   "source": [
    "np.empty([3,3], dtype = int)"
   ]
  },
  {
   "cell_type": "markdown",
   "metadata": {},
   "source": [
    "**numpy.zeros**\n",
    "\n",
    "Returns a new array of specified size, filled with zeros.\n",
    "\n",
    "**Syntax : numpy.zeros(shape, dtype = float, order = 'F')**"
   ]
  },
  {
   "cell_type": "code",
   "execution_count": 5,
   "metadata": {},
   "outputs": [
    {
     "name": "stdout",
     "output_type": "stream",
     "text": [
      "[ 0.  0.  0.  0.  0.]\n"
     ]
    },
    {
     "data": {
      "text/plain": [
       "array([[ 0.,  0.,  0.],\n",
       "       [ 0.,  0.,  0.],\n",
       "       [ 0.,  0.,  0.]])"
      ]
     },
     "execution_count": 5,
     "metadata": {},
     "output_type": "execute_result"
    }
   ],
   "source": [
    "print(np.zeros(5))\n",
    "\n",
    "np.zeros((3,3))"
   ]
  },
  {
   "cell_type": "markdown",
   "metadata": {},
   "source": [
    "**numpy.ones**\n",
    "\n",
    "Returns a new array of specified size and type, filled with ones.\n",
    "\n",
    "**Syntax : numpy.ones(shape, dtype = None, order = 'C')**\n",
    "\n",
    "\n",
    "\n"
   ]
  },
  {
   "cell_type": "code",
   "execution_count": 6,
   "metadata": {},
   "outputs": [
    {
     "data": {
      "text/plain": [
       "array([ 1.,  1.,  1.,  1.,  1.])"
      ]
     },
     "execution_count": 6,
     "metadata": {},
     "output_type": "execute_result"
    }
   ],
   "source": [
    "np.ones(5)\n"
   ]
  },
  {
   "cell_type": "code",
   "execution_count": 7,
   "metadata": {},
   "outputs": [
    {
     "data": {
      "text/plain": [
       "array([[1, 1],\n",
       "       [1, 1]])"
      ]
     },
     "execution_count": 7,
     "metadata": {},
     "output_type": "execute_result"
    }
   ],
   "source": [
    "np.ones([2,2], dtype = int)"
   ]
  },
  {
   "cell_type": "markdown",
   "metadata": {},
   "source": [
    "**Note: zeros_like,ones_like, empty_like arange,fromfunction, fromfile**"
   ]
  },
  {
   "cell_type": "markdown",
   "metadata": {},
   "source": [
    "**numpy.asarray ** \n",
    "\n",
    "This function is similar to numpy.array except for the fact that it has fewer parameters.\n",
    "\n",
    "**syntax : numpy.asarray(a, dtype = None, order = None)**"
   ]
  },
  {
   "cell_type": "code",
   "execution_count": 8,
   "metadata": {},
   "outputs": [
    {
     "name": "stdout",
     "output_type": "stream",
     "text": [
      "[1 2 3]\n",
      "<class 'numpy.ndarray'>\n"
     ]
    },
    {
     "data": {
      "text/plain": [
       "(3,)"
      ]
     },
     "execution_count": 8,
     "metadata": {},
     "output_type": "execute_result"
    }
   ],
   "source": [
    "x = [1,2,3] \n",
    "a = np.asarray(x)\n",
    "print(a)\n",
    "\n",
    "print(type(a))\n",
    "\n",
    "a.shape"
   ]
  },
  {
   "cell_type": "markdown",
   "metadata": {},
   "source": [
    "**Numeric ranges **\n",
    "\n",
    "This function returns an ndarray object containing evenly spaced values within a given range.\n",
    "\n",
    "**syntax: numpy.arange(start, stop, step, dtype)**"
   ]
  },
  {
   "cell_type": "code",
   "execution_count": 11,
   "metadata": {},
   "outputs": [
    {
     "data": {
      "text/plain": [
       "array([5, 7])"
      ]
     },
     "execution_count": 11,
     "metadata": {},
     "output_type": "execute_result"
    }
   ],
   "source": [
    "np.arange(5,9,2)"
   ]
  },
  {
   "cell_type": "markdown",
   "metadata": {},
   "source": [
    "**numpy.linspace**\n",
    "\n",
    "This function is similar to arange() function. In this function, instead of step size, the number of evenly spaced values between the interval is specified.\n",
    "\n",
    "**syntax: numpy.linspace(start, stop, num, endpoint, retstep, dtype)**\n",
    "\n",
    "retstep : If true, returns samples and step between the consecutive numbers.\n",
    "\n",
    "endpoint : True by default, hence the stop value is included in the sequence. If false, it is not included"
   ]
  },
  {
   "cell_type": "code",
   "execution_count": 13,
   "metadata": {},
   "outputs": [
    {
     "data": {
      "text/plain": [
       "array([ 10.,  12.,  14.,  16.,  18.])"
      ]
     },
     "execution_count": 13,
     "metadata": {},
     "output_type": "execute_result"
    }
   ],
   "source": [
    "np.linspace(10,20,num=5,endpoint=False,retstep=False)"
   ]
  },
  {
   "cell_type": "markdown",
   "metadata": {},
   "source": [
    "**numpy.logspace**\n",
    "\n",
    "This function returns an ndarray object that contains the numbers that are evenly spaced on a log scale\n",
    "\n",
    "**syntax : numpy.logscale(start, stop, num, endpoint, base, dtype)**"
   ]
  },
  {
   "cell_type": "code",
   "execution_count": 15,
   "metadata": {},
   "outputs": [
    {
     "data": {
      "text/plain": [
       "array([  10.        ,   17.7827941 ,   31.6227766 ,   56.23413252,  100.        ])"
      ]
     },
     "execution_count": 15,
     "metadata": {},
     "output_type": "execute_result"
    }
   ],
   "source": [
    "\n",
    "np.logspace(1.0, 2.0, num = 5)"
   ]
  },
  {
   "cell_type": "code",
   "execution_count": 16,
   "metadata": {},
   "outputs": [
    {
     "data": {
      "text/plain": [
       "array([ 2.        ,  2.37841423,  2.82842712,  3.36358566,  4.        ])"
      ]
     },
     "execution_count": 16,
     "metadata": {},
     "output_type": "execute_result"
    }
   ],
   "source": [
    "np.logspace(1.0, 2.0, num = 5,base=2)"
   ]
  },
  {
   "cell_type": "markdown",
   "metadata": {},
   "source": [
    "** resize changes the shape and size of array in-place.**\n"
   ]
  },
  {
   "cell_type": "code",
   "execution_count": 17,
   "metadata": {},
   "outputs": [
    {
     "name": "stdout",
     "output_type": "stream",
     "text": [
      "[ 0.   0.5  1.   1.5  2.   2.5  3.   3.5  4. ]\n"
     ]
    },
    {
     "data": {
      "text/plain": [
       "array([[ 0. ,  0.5,  1. ],\n",
       "       [ 1.5,  2. ,  2.5],\n",
       "       [ 3. ,  3.5,  4. ]])"
      ]
     },
     "execution_count": 17,
     "metadata": {},
     "output_type": "execute_result"
    }
   ],
   "source": [
    "o = np.linspace(0, 4, 9)\n",
    "\n",
    "print(o)\n",
    "\n",
    "o.resize(3, 3)\n",
    "\n",
    "o"
   ]
  },
  {
   "cell_type": "markdown",
   "metadata": {},
   "source": [
    "eye returns a 2-D array with ones on the diagonal and zeros elsewhere.\n"
   ]
  },
  {
   "cell_type": "code",
   "execution_count": 23,
   "metadata": {},
   "outputs": [
    {
     "data": {
      "text/plain": [
       "matrix([[ 1.,  0.,  0.,  0.],\n",
       "        [ 0.,  1.,  0.,  0.],\n",
       "        [ 0.,  0.,  1.,  0.]])"
      ]
     },
     "execution_count": 23,
     "metadata": {},
     "output_type": "execute_result"
    }
   ],
   "source": [
    "np.eye(2)\n",
    "\n",
    "#import numpy.matlib\n",
    "\n",
    "#np.matlib.eye(n = 3, M = 4, k = 0, dtype = float)"
   ]
  },
  {
   "cell_type": "markdown",
   "metadata": {},
   "source": [
    "diag extracts a diagonal or constructs a diagonal array.\n"
   ]
  },
  {
   "cell_type": "code",
   "execution_count": 24,
   "metadata": {},
   "outputs": [
    {
     "data": {
      "text/plain": [
       "array([[1, 0, 0],\n",
       "       [0, 2, 0],\n",
       "       [0, 0, 3]])"
      ]
     },
     "execution_count": 24,
     "metadata": {},
     "output_type": "execute_result"
    }
   ],
   "source": [
    "y=[1,2,3]\n",
    "np.diag(y)\n"
   ]
  },
  {
   "cell_type": "markdown",
   "metadata": {},
   "source": [
    "Create an array using repeating list (pythonic way)"
   ]
  },
  {
   "cell_type": "code",
   "execution_count": 25,
   "metadata": {},
   "outputs": [
    {
     "data": {
      "text/plain": [
       "array([1, 1, 1, 2, 2, 2, 3, 3, 3])"
      ]
     },
     "execution_count": 25,
     "metadata": {},
     "output_type": "execute_result"
    }
   ],
   "source": [
    "#using numpy\n",
    "np.repeat([1, 2, 3], 3)"
   ]
  },
  {
   "cell_type": "code",
   "execution_count": 26,
   "metadata": {},
   "outputs": [
    {
     "data": {
      "text/plain": [
       "array([[1, 1, 1],\n",
       "       [1, 1, 1]])"
      ]
     },
     "execution_count": 26,
     "metadata": {},
     "output_type": "execute_result"
    }
   ],
   "source": [
    "p = np.ones([2, 3], int)\n",
    "p"
   ]
  },
  {
   "cell_type": "code",
   "execution_count": 27,
   "metadata": {},
   "outputs": [
    {
     "data": {
      "text/plain": [
       "array([[1, 1, 1],\n",
       "       [1, 1, 1],\n",
       "       [2, 2, 2],\n",
       "       [2, 2, 2]])"
      ]
     },
     "execution_count": 27,
     "metadata": {},
     "output_type": "execute_result"
    }
   ],
   "source": [
    "#vstack to stack arrays in sequence vertically (row wise).\n",
    "np.vstack([p, 2*p])"
   ]
  },
  {
   "cell_type": "code",
   "execution_count": 28,
   "metadata": {},
   "outputs": [
    {
     "data": {
      "text/plain": [
       "array([[1, 1, 1, 2, 2, 2],\n",
       "       [1, 1, 1, 2, 2, 2]])"
      ]
     },
     "execution_count": 28,
     "metadata": {},
     "output_type": "execute_result"
    }
   ],
   "source": [
    "#hstack to stack arrays in sequence horizontally (column wise)\n",
    "np.hstack([p, 2*p])"
   ]
  },
  {
   "cell_type": "markdown",
   "metadata": {},
   "source": [
    "## Indexing / Slicing\n",
    "\n",
    "Three types of indexing methods are available − field access, basic slicing and advanced indexing.\n"
   ]
  },
  {
   "cell_type": "code",
   "execution_count": 29,
   "metadata": {},
   "outputs": [
    {
     "data": {
      "text/plain": [
       "array([ 0,  2,  4,  6,  8, 10, 12, 14, 16, 18, 20, 22, 24])"
      ]
     },
     "execution_count": 29,
     "metadata": {},
     "output_type": "execute_result"
    }
   ],
   "source": [
    "s = np.arange(13)*2\n",
    "s"
   ]
  },
  {
   "cell_type": "code",
   "execution_count": 30,
   "metadata": {},
   "outputs": [
    {
     "data": {
      "text/plain": [
       "(0, 8, 24)"
      ]
     },
     "execution_count": 30,
     "metadata": {},
     "output_type": "execute_result"
    }
   ],
   "source": [
    "#indexing \n",
    "\n",
    "s[0], s[4], s[-1]"
   ]
  },
  {
   "cell_type": "markdown",
   "metadata": {},
   "source": [
    "To indicate a range. array[start:stop]\n",
    "Leaving start or stop empty will default to the beginning/end of the array."
   ]
  },
  {
   "cell_type": "code",
   "execution_count": 31,
   "metadata": {},
   "outputs": [
    {
     "data": {
      "text/plain": [
       "array([2, 4, 6, 8])"
      ]
     },
     "execution_count": 31,
     "metadata": {},
     "output_type": "execute_result"
    }
   ],
   "source": [
    "s[1:5]\n"
   ]
  },
  {
   "cell_type": "code",
   "execution_count": 32,
   "metadata": {},
   "outputs": [
    {
     "data": {
      "text/plain": [
       "array([18, 20, 22, 24])"
      ]
     },
     "execution_count": 32,
     "metadata": {},
     "output_type": "execute_result"
    }
   ],
   "source": [
    "#Use negatives to count from the back.\n",
    "s[-4:]\n"
   ]
  },
  {
   "cell_type": "code",
   "execution_count": 34,
   "metadata": {},
   "outputs": [
    {
     "data": {
      "text/plain": [
       "array([10, 14, 18, 22])"
      ]
     },
     "execution_count": 34,
     "metadata": {},
     "output_type": "execute_result"
    }
   ],
   "source": [
    "#can be used to indicate step-size. array[start:stop:stepsize]\n",
    "#Here we are starting 5th element from the end, and counting backwards by 2 until the beginning of the array is reached.\n",
    "s[5::2]"
   ]
  },
  {
   "cell_type": "code",
   "execution_count": 35,
   "metadata": {},
   "outputs": [
    {
     "data": {
      "text/plain": [
       "array([[ 0,  1,  2,  3,  4,  5],\n",
       "       [ 6,  7,  8,  9, 10, 11],\n",
       "       [12, 13, 14, 15, 16, 17],\n",
       "       [18, 19, 20, 21, 22, 23],\n",
       "       [24, 25, 26, 27, 28, 29],\n",
       "       [30, 31, 32, 33, 34, 35]])"
      ]
     },
     "execution_count": 35,
     "metadata": {},
     "output_type": "execute_result"
    }
   ],
   "source": [
    "#Let's look at a multidimensional array.\n",
    "m = np.arange(36)\n",
    "m.resize((6, 6))\n",
    "m\n"
   ]
  },
  {
   "cell_type": "code",
   "execution_count": 36,
   "metadata": {},
   "outputs": [
    {
     "data": {
      "text/plain": [
       "14"
      ]
     },
     "execution_count": 36,
     "metadata": {},
     "output_type": "execute_result"
    }
   ],
   "source": [
    "#Use bracket notation to slice: array[row, column]\n",
    "m[2, 2]\n"
   ]
  },
  {
   "cell_type": "code",
   "execution_count": 37,
   "metadata": {},
   "outputs": [
    {
     "data": {
      "text/plain": [
       "array([21, 22, 23])"
      ]
     },
     "execution_count": 37,
     "metadata": {},
     "output_type": "execute_result"
    }
   ],
   "source": [
    "#to select a range of rows or columns\n",
    "\n",
    "m[3, 3:]"
   ]
  },
  {
   "cell_type": "code",
   "execution_count": 40,
   "metadata": {},
   "outputs": [
    {
     "data": {
      "text/plain": [
       "array([31, 32, 33, 34, 35])"
      ]
     },
     "execution_count": 40,
     "metadata": {},
     "output_type": "execute_result"
    }
   ],
   "source": [
    "#We can also perform conditional indexing. Here we are selecting values from the array that are greater than 30.\n",
    "m[m > 30]"
   ]
  },
  {
   "cell_type": "code",
   "execution_count": 41,
   "metadata": {},
   "outputs": [
    {
     "data": {
      "text/plain": [
       "array([[ 0,  1,  2,  3,  4,  5],\n",
       "       [ 6,  7,  8,  9, 10, 11],\n",
       "       [12, 13, 14, 15, 16, 17],\n",
       "       [18, 19, 20, 21, 22, 23],\n",
       "       [24, 25, 26, 27, 28, 29],\n",
       "       [30, 30, 30, 30, 30, 30]])"
      ]
     },
     "execution_count": 41,
     "metadata": {},
     "output_type": "execute_result"
    }
   ],
   "source": [
    "#Here we are assigning all values in the array that are greater than 30 to the value of 30\n",
    "m[m > 30] = 30\n",
    "m"
   ]
  },
  {
   "cell_type": "code",
   "execution_count": 42,
   "metadata": {},
   "outputs": [
    {
     "name": "stdout",
     "output_type": "stream",
     "text": [
      "[0 1 2 3 4 5 6 7 8 9]\n",
      "Done [2 4 6]\n"
     ]
    }
   ],
   "source": [
    "x = np.arange(10) \n",
    "print(x)\n",
    "s=slice(2,7,2)\n",
    "print(\"Done\",x[s])"
   ]
  },
  {
   "cell_type": "markdown",
   "metadata": {},
   "source": [
    "## cs-3\n",
    "\n",
    "**Topics : \n",
    "Math functions,\n",
    "Basic operations,\n",
    "Statistical Functions,\n",
    "Copies & Views,\n",
    "Broadcasting,\n",
    "Iterating Over Array,\n",
    "ix() function**\n"
   ]
  },
  {
   "cell_type": "markdown",
   "metadata": {},
   "source": [
    "Math functions :NumPy contains a large number of various mathematical operations. NumPy provides standard trigonometric functions, functions for arithmetic operations, handling complex numbers, etc."
   ]
  },
  {
   "cell_type": "markdown",
   "metadata": {},
   "source": [
    "**Trigonometric Functions:**\n",
    "\n",
    "NumPy has standard trigonometric functions which return trigonometric ratios for a given angle in radians.\n",
    "\n",
    "**np.sin()**\n",
    "\n",
    "**np.cos()**\n",
    "\n",
    "**np.tan()**\n",
    "\n",
    "arcsin, arcos, and arctan functions return the trigonometric inverse of sin, cos, and tan of the given angle.\n",
    "\n",
    "The result of these functions can be verified by numpy.degrees() function by converting radians to degrees."
   ]
  },
  {
   "cell_type": "code",
   "execution_count": 3,
   "metadata": {},
   "outputs": [
    {
     "name": "stdout",
     "output_type": "stream",
     "text": [
      "0.0\n",
      "Sine of different angles:\n",
      "[ 0.          0.5         0.70710678  0.8660254   1.        ]\n",
      "Cosine values for angles in array:\n",
      "[  1.00000000e+00   8.66025404e-01   7.07106781e-01   5.00000000e-01\n",
      "   6.12323400e-17]\n",
      "Tangent values for given angles:\n",
      "[  0.00000000e+00   5.77350269e-01   1.00000000e+00   1.73205081e+00\n",
      "   1.63312394e+16]\n"
     ]
    }
   ],
   "source": [
    "print(np.sin(0))\n",
    "\n",
    "a = np.array([0,30,45,60,90]) \n",
    "\n",
    "print ('Sine of different angles:') \n",
    "# Convert to radians by multiplying with pi/180 \n",
    "print (np.sin(a*np.pi/180)) \n",
    "\n",
    "print ('Cosine values for angles in array:') \n",
    "print (np.cos(a*np.pi/180) )\n",
    "\n",
    "print ('Tangent values for given angles:') \n",
    "print (np.tan(a*np.pi/180))"
   ]
  },
  {
   "cell_type": "code",
   "execution_count": 4,
   "metadata": {},
   "outputs": [
    {
     "name": "stdout",
     "output_type": "stream",
     "text": [
      "[ 0.          0.5         0.70710678  0.8660254   1.        ]\n",
      "\n",
      "\n",
      "Compute sine inverse of angles. Returned values are in radians.\n",
      "[ 0.          0.52359878  0.78539816  1.04719755  1.57079633]\n",
      "\n",
      "\n",
      "Check result by converting to degrees:\n",
      "[  0.  30.  45.  60.  90.]\n",
      "\n",
      "\n",
      "arccos and arctan functions behave similarly:\n",
      "[  1.00000000e+00   8.66025404e-01   7.07106781e-01   5.00000000e-01\n",
      "   6.12323400e-17]\n",
      "\n",
      "\n",
      "Inverse of cos:\n",
      "[ 0.          0.52359878  0.78539816  1.04719755  1.57079633]\n",
      "\n",
      "\n",
      "In degrees:\n",
      "[  0.  30.  45.  60.  90.]\n",
      "\n",
      "\n",
      "Tan function:\n",
      "[  0.00000000e+00   5.77350269e-01   1.00000000e+00   1.73205081e+00\n",
      "   1.63312394e+16]\n",
      "Inverse of tan:\n",
      "[ 0.          0.52359878  0.78539816  1.04719755  1.57079633]\n",
      "\n",
      "\n",
      "In degrees:\n",
      "[  0.  30.  45.  60.  90.]\n"
     ]
    }
   ],
   "source": [
    "#inverse tri\n",
    "a = np.array([0,30,45,60,90]) \n",
    "\n",
    "#print 'Array containing sine values:' \n",
    "sin = np.sin(a*np.pi/180) \n",
    "print( sin )\n",
    "print ('\\n')  \n",
    "\n",
    "print ('Compute sine inverse of angles. Returned values are in radians.') \n",
    "inv = np.arcsin(sin) \n",
    "print (inv )\n",
    "print ('\\n')  \n",
    "\n",
    "print( 'Check result by converting to degrees:' )\n",
    "print (np.degrees(inv)) \n",
    "print ('\\n')\n",
    "\n",
    "print ('arccos and arctan functions behave similarly:' )\n",
    "cos = np.cos(a*np.pi/180) \n",
    "print (cos) \n",
    "print ('\\n')  \n",
    "\n",
    "print ('Inverse of cos:') \n",
    "inv = np.arccos(cos) \n",
    "print (inv) \n",
    "print ('\\n')  \n",
    "\n",
    "print ('In degrees:') \n",
    "print (np.degrees(inv)) \n",
    "print ('\\n')  \n",
    "\n",
    "print ('Tan function:' )\n",
    "tan = np.tan(a*np.pi/180) \n",
    "print (tan)\n",
    "\n",
    "print ('Inverse of tan:') \n",
    "inv = np.arctan(tan) \n",
    "print (inv)\n",
    "print ('\\n')  \n",
    "\n",
    "print ('In degrees:' )\n",
    "print (np.degrees(inv))"
   ]
  },
  {
   "cell_type": "markdown",
   "metadata": {},
   "source": [
    "**numpy.around()**\n",
    "\n",
    "This is a function that returns the value rounded to the desired precision. The function takes the following parameters.\n",
    "\n",
    "**syntax : numpy.around(a,decimals)**\n"
   ]
  },
  {
   "cell_type": "code",
   "execution_count": 8,
   "metadata": {},
   "outputs": [
    {
     "name": "stdout",
     "output_type": "stream",
     "text": [
      "Original array:\n",
      "[   1.       5.55   123.       0.567   25.532]\n",
      "\n",
      "\n",
      "After rounding:\n",
      "[   1.    6.  123.    1.   26.]\n",
      "[   1.     5.6  123.     0.6   25.5]\n"
     ]
    }
   ],
   "source": [
    "#round off\n",
    "a = np.array([1.0,5.55, 123, 0.567, 25.532]) \n",
    "\n",
    "print ('Original array:') \n",
    "print (a )\n",
    "print ('\\n')  \n",
    "\n",
    "print ('After rounding:') \n",
    "print (np.around(a)) \n",
    "print (np.around(a, decimals = 1))"
   ]
  },
  {
   "cell_type": "markdown",
   "metadata": {},
   "source": [
    "**numpy.floor()**\n",
    "\n",
    "This function returns the largest integer not greater than the input parameter. The floor of the scalar x is the largest integer i, such that i <= x. Note that in Python, flooring always is rounded away from 0."
   ]
  },
  {
   "cell_type": "code",
   "execution_count": 9,
   "metadata": {},
   "outputs": [
    {
     "name": "stdout",
     "output_type": "stream",
     "text": [
      "array:\n",
      "[ -1.7   1.5  -0.2   0.6  10. ]\n",
      "\n",
      "\n",
      "The modified array:\n",
      "[ -2.   1.  -1.   0.  10.]\n",
      "[ -1.   2.  -0.   1.  10.]\n"
     ]
    }
   ],
   "source": [
    "a = np.array([-1.7, 1.5, -0.2, 0.6, 10]) \n",
    "\n",
    "print ('array:') \n",
    "print (a) \n",
    "print ('\\n')\n",
    "\n",
    "\n",
    "print ('The modified array:') \n",
    "#returns largest intgres\n",
    "\n",
    "print (np.floor(a))\n",
    "#returns lowest intgers\n",
    "print (np.ceil(a))"
   ]
  },
  {
   "cell_type": "markdown",
   "metadata": {},
   "source": [
    "**Basic operations:**\n",
    "\n",
    "Input arrays for performing arithmetic operations such as add(), subtract(), multiply(), and divide() must be either of the same shape or should conform to array broadcasting rules.\n",
    "\n",
    "Use +, -, *, / and ** to perform element wise addition, subtraction, multiplication, division and power.\n"
   ]
  },
  {
   "cell_type": "code",
   "execution_count": 10,
   "metadata": {},
   "outputs": [
    {
     "name": "stdout",
     "output_type": "stream",
     "text": [
      "[5 7 9]\n",
      "\n",
      "\n",
      "[-3 -3 -3]\n"
     ]
    }
   ],
   "source": [
    "x=np.array([1,2,3])\n",
    "y=np.array([4,5,6])\n",
    "print(x + y) # elementwise addition     [1 2 3] + [4 5 6] = [5  7  9]\n",
    "print('\\n')\n",
    "print(x - y) # elementwise subtraction  [1 2 3] - [4 5 6] = [-3 -3 -3]"
   ]
  },
  {
   "cell_type": "code",
   "execution_count": 11,
   "metadata": {},
   "outputs": [
    {
     "name": "stdout",
     "output_type": "stream",
     "text": [
      "[ 4 10 18]\n",
      "[ 0.25  0.4   0.5 ]\n",
      "[1 4 9]\n"
     ]
    }
   ],
   "source": [
    "print(x * y) # elementwise multiplication  [1 2 3] * [4 5 6] = [4  10  18]\n",
    "print(x / y) # elementwise divison         [1 2 3] / [4 5 6] = [0.25  0.4  0.5]\n",
    "print(x**2) # elementwise power  [1 2 3] ^2 =  [1 4 9]"
   ]
  },
  {
   "cell_type": "code",
   "execution_count": 12,
   "metadata": {},
   "outputs": [
    {
     "name": "stdout",
     "output_type": "stream",
     "text": [
      "First array:\n",
      "[[ 0.  1.  2.]\n",
      " [ 3.  4.  5.]\n",
      " [ 6.  7.  8.]]\n",
      "Second array:\n",
      "[10 10 10]\n",
      "\n",
      "\n",
      "Add the two arrays:\n",
      "[[ 10.  11.  12.]\n",
      " [ 13.  14.  15.]\n",
      " [ 16.  17.  18.]]\n",
      "\n",
      "\n",
      "Subtract the two arrays:\n",
      "[[-10.  -9.  -8.]\n",
      " [ -7.  -6.  -5.]\n",
      " [ -4.  -3.  -2.]]\n",
      "\n",
      "\n",
      "Multiply the two arrays:\n",
      "[[  0.  10.  20.]\n",
      " [ 30.  40.  50.]\n",
      " [ 60.  70.  80.]]\n",
      "Divide the two arrays:\n",
      "[[ 0.   0.1  0.2]\n",
      " [ 0.3  0.4  0.5]\n",
      " [ 0.6  0.7  0.8]]\n"
     ]
    }
   ],
   "source": [
    "a = np.arange(9, dtype = np.float).reshape(3,3) \n",
    "\n",
    "print ('First array:') \n",
    "print (a )\n",
    "\n",
    "print ('Second array:' )\n",
    "b = np.array([10,10,10]) \n",
    "print (b )\n",
    "print ('\\n')  \n",
    "\n",
    "print ('Add the two arrays:') \n",
    "print (np.add(a,b)) \n",
    "print ('\\n')  \n",
    "\n",
    "print ('Subtract the two arrays:') \n",
    "print (np.subtract(a,b)) \n",
    "print ('\\n')  \n",
    "\n",
    "print ('Multiply the two arrays:') \n",
    "print (np.multiply(a,b)) \n",
    "\n",
    "\n",
    "print ('Divide the two arrays:') \n",
    "print (np.divide(a,b))"
   ]
  },
  {
   "cell_type": "markdown",
   "metadata": {},
   "source": [
    "**Statistical Functions:**\n",
    "\n",
    "NumPy has quite a few useful statistical functions for finding minimum, maximum, percentile standard deviation and variance, etc. from the given elements in the array.\n"
   ]
  },
  {
   "cell_type": "code",
   "execution_count": 13,
   "metadata": {},
   "outputs": [
    {
     "data": {
      "text/plain": [
       "3"
      ]
     },
     "execution_count": 13,
     "metadata": {},
     "output_type": "execute_result"
    }
   ],
   "source": [
    "a = np.array([-4, -2, 1, 3, 5])\n",
    "\n",
    "a.sum()"
   ]
  },
  {
   "cell_type": "code",
   "execution_count": 14,
   "metadata": {},
   "outputs": [
    {
     "data": {
      "text/plain": [
       "5"
      ]
     },
     "execution_count": 14,
     "metadata": {},
     "output_type": "execute_result"
    }
   ],
   "source": [
    "a.max()"
   ]
  },
  {
   "cell_type": "code",
   "execution_count": 15,
   "metadata": {},
   "outputs": [
    {
     "data": {
      "text/plain": [
       "-4"
      ]
     },
     "execution_count": 15,
     "metadata": {},
     "output_type": "execute_result"
    }
   ],
   "source": [
    "a.min()"
   ]
  },
  {
   "cell_type": "code",
   "execution_count": 16,
   "metadata": {},
   "outputs": [
    {
     "data": {
      "text/plain": [
       "0.59999999999999998"
      ]
     },
     "execution_count": 16,
     "metadata": {},
     "output_type": "execute_result"
    }
   ],
   "source": [
    "np.average(a)"
   ]
  },
  {
   "cell_type": "code",
   "execution_count": 17,
   "metadata": {},
   "outputs": [
    {
     "data": {
      "text/plain": [
       "0.59999999999999998"
      ]
     },
     "execution_count": 17,
     "metadata": {},
     "output_type": "execute_result"
    }
   ],
   "source": [
    "a.mean()"
   ]
  },
  {
   "cell_type": "code",
   "execution_count": 18,
   "metadata": {},
   "outputs": [
    {
     "data": {
      "text/plain": [
       "3.2619012860600183"
      ]
     },
     "execution_count": 18,
     "metadata": {},
     "output_type": "execute_result"
    }
   ],
   "source": [
    "a.std() #Standard deviation is the square root of the average of squared deviations from mean"
   ]
  },
  {
   "cell_type": "markdown",
   "metadata": {},
   "source": [
    "Variance is the average of squared deviations, i.e., mean(abs(x - x.mean())**2). \n",
    "In other words, the standard deviation is the square root of variance.\n",
    "\n"
   ]
  },
  {
   "cell_type": "code",
   "execution_count": 19,
   "metadata": {},
   "outputs": [
    {
     "data": {
      "text/plain": [
       "1.25"
      ]
     },
     "execution_count": 19,
     "metadata": {},
     "output_type": "execute_result"
    }
   ],
   "source": [
    "np.var([1,2,3,4])"
   ]
  },
  {
   "cell_type": "code",
   "execution_count": 20,
   "metadata": {},
   "outputs": [
    {
     "data": {
      "text/plain": [
       "4"
      ]
     },
     "execution_count": 20,
     "metadata": {},
     "output_type": "execute_result"
    }
   ],
   "source": [
    "a.argmax()\n"
   ]
  },
  {
   "cell_type": "code",
   "execution_count": 21,
   "metadata": {},
   "outputs": [
    {
     "data": {
      "text/plain": [
       "0"
      ]
     },
     "execution_count": 21,
     "metadata": {},
     "output_type": "execute_result"
    }
   ],
   "source": [
    "a.argmin()"
   ]
  },
  {
   "cell_type": "markdown",
   "metadata": {},
   "source": [
    "### Copies & Views :\n",
    "\n",
    "**No Copy:**\n",
    "\n",
    "Simple assignments do not make the copy of array object. Instead, it uses the same id() of the original array to access it. The id() returns a universal identifier of Python object, similar to the pointer in C.\n",
    "\n",
    "**View or Shallow Copy:**\n",
    "\n",
    "NumPy has ndarray.view() method which is a new array object that looks at the same data of the original array.\n",
    "\n",
    "**Deep copy:** \n",
    "\n",
    "The ndarray.copy() function creates a deep copy. It is a complete copy of the array and its data, and doesn’t share with the original array. "
   ]
  },
  {
   "cell_type": "code",
   "execution_count": 22,
   "metadata": {},
   "outputs": [
    {
     "name": "stdout",
     "output_type": "stream",
     "text": [
      "Our array is:\n",
      "[0 1 2 3 4 5]\n",
      "Applying id() function:\n",
      "2294032255376\n",
      "a is assigned to b:\n",
      "[0 1 2 3 4 5]\n",
      "b has same id():\n",
      "2294032255376\n",
      "Change shape of b:\n",
      "[[0 1]\n",
      " [2 3]\n",
      " [4 5]]\n",
      "Shape of a also gets changed:\n",
      "[[0 1]\n",
      " [2 3]\n",
      " [4 5]]\n"
     ]
    }
   ],
   "source": [
    "#no copy\n",
    "a = np.arange(6) \n",
    "\n",
    "print ('Our array is:' )\n",
    "print (a ) \n",
    "\n",
    "print ('Applying id() function:') \n",
    "print (id(a))  \n",
    "\n",
    "print ('a is assigned to b:' )\n",
    "b = a \n",
    "print (b) \n",
    "\n",
    "print ('b has same id():') \n",
    "print (id(b))  \n",
    "\n",
    "print ('Change shape of b:') \n",
    "b.shape = 3,2 \n",
    "print (b)\n",
    "\n",
    "print ('Shape of a also gets changed:') \n",
    "print (a)"
   ]
  },
  {
   "cell_type": "code",
   "execution_count": 23,
   "metadata": {},
   "outputs": [
    {
     "name": "stdout",
     "output_type": "stream",
     "text": [
      "[1 2 3 4]\n",
      "2294032255456\n",
      "[1 2 3 4]\n",
      "2294032253376\n",
      "False\n",
      "(2, 2)\n",
      "(4,)\n"
     ]
    }
   ],
   "source": [
    "#view\n",
    "a = np.array([1,2,3,4])\n",
    "\n",
    "#print 'Array a:' \n",
    "print (a ) \n",
    "print(id(a))\n",
    "#Create view of a: \n",
    "b = a.view() \n",
    "print( b ) \n",
    "b.shape=(2,2)\n",
    "print(id(b))\n",
    "print (b is a)\n",
    "print(b.shape)\n",
    "print(a.shape)"
   ]
  },
  {
   "cell_type": "code",
   "execution_count": 24,
   "metadata": {},
   "outputs": [
    {
     "name": "stdout",
     "output_type": "stream",
     "text": [
      "Array a is:\n",
      "[[10 10]\n",
      " [ 2  3]\n",
      " [ 4  5]]\n",
      "Array b is:\n",
      "[[10 10]\n",
      " [ 2  3]\n",
      " [ 4  5]]\n",
      "Can we write b is a\n",
      "False\n"
     ]
    }
   ],
   "source": [
    "#copy\n",
    "a = np.array([[10,10], [2,3], [4,5]]) \n",
    "\n",
    "print ('Array a is:') \n",
    "print( a)  \n",
    "\n",
    "# 'Create a deep copy of a:' \n",
    "b = a.copy() \n",
    "print ('Array b is:') \n",
    "print (b) \n",
    "\n",
    "#b does not share any memory of a \n",
    "print ('Can we write b is a') \n",
    "print (b is a)"
   ]
  },
  {
   "cell_type": "markdown",
   "metadata": {},
   "source": [
    "#### Broadcasting :\n",
    "\n",
    "The term broadcasting refers to the ability of NumPy to treat arrays of different shapes during arithmetic operations."
   ]
  },
  {
   "cell_type": "code",
   "execution_count": 25,
   "metadata": {},
   "outputs": [
    {
     "name": "stdout",
     "output_type": "stream",
     "text": [
      "(4,)\n",
      "(4,)\n",
      "[ 10  40  90 160]\n"
     ]
    }
   ],
   "source": [
    "#normal example \n",
    "a = np.array([1,2,3,4]) \n",
    "b = np.array([10,20,30,40]) \n",
    "\n",
    "print(a.shape)\n",
    "\n",
    "print(b.shape)\n",
    "\n",
    "c = a * b \n",
    "print (c)"
   ]
  },
  {
   "cell_type": "code",
   "execution_count": 26,
   "metadata": {},
   "outputs": [
    {
     "name": "stdout",
     "output_type": "stream",
     "text": [
      "[[0]\n",
      " [1]\n",
      " [2]\n",
      " [3]]\n",
      "[[ 1.  1.  1.  1.  1.]\n",
      " [ 2.  2.  2.  2.  2.]\n",
      " [ 3.  3.  3.  3.  3.]\n",
      " [ 4.  4.  4.  4.  4.]]\n"
     ]
    },
    {
     "data": {
      "text/plain": [
       "(4, 5)"
      ]
     },
     "execution_count": 26,
     "metadata": {},
     "output_type": "execute_result"
    }
   ],
   "source": [
    "#Broadcasting \n",
    "\n",
    "x = np.arange(4)\n",
    "y = np.ones(5)\n",
    "xb=x.reshape(4,1)\n",
    "print(xb)\n",
    "#bd\n",
    "print(xb + y)\n",
    "(xb + y).shape"
   ]
  },
  {
   "cell_type": "markdown",
   "metadata": {},
   "source": [
    "**Note :** If the dimensions of two arrays are dissimilar, element-to-element operations are not possible. However, operations on arrays of non-similar shapes is still possible in NumPy, because of the broadcasting capability."
   ]
  },
  {
   "cell_type": "code",
   "execution_count": 27,
   "metadata": {},
   "outputs": [
    {
     "name": "stdout",
     "output_type": "stream",
     "text": [
      "2\n"
     ]
    }
   ],
   "source": [
    "#Matrix operations \n",
    "z = np.array([y, y**2])\n",
    "print(len(z)) # number of rows of array"
   ]
  },
  {
   "cell_type": "markdown",
   "metadata": {},
   "source": [
    "Let's look at transposing arrays. Transposing permutes the dimensions of the array.\n"
   ]
  },
  {
   "cell_type": "code",
   "execution_count": 28,
   "metadata": {},
   "outputs": [
    {
     "data": {
      "text/plain": [
       "array([[ 0,  1,  2,  3,  4],\n",
       "       [ 0,  1,  4,  9, 16]])"
      ]
     },
     "execution_count": 28,
     "metadata": {},
     "output_type": "execute_result"
    }
   ],
   "source": [
    "y=np.arange(5)\n",
    "z = np.array([y, y ** 2])\n",
    "z"
   ]
  },
  {
   "cell_type": "code",
   "execution_count": 29,
   "metadata": {},
   "outputs": [
    {
     "data": {
      "text/plain": [
       "(2, 5)"
      ]
     },
     "execution_count": 29,
     "metadata": {},
     "output_type": "execute_result"
    }
   ],
   "source": [
    "#The shape of array z is (2,3) before transposing.\n",
    "z.shape\n"
   ]
  },
  {
   "cell_type": "code",
   "execution_count": 30,
   "metadata": {},
   "outputs": [
    {
     "data": {
      "text/plain": [
       "array([[ 0,  0],\n",
       "       [ 1,  1],\n",
       "       [ 2,  4],\n",
       "       [ 3,  9],\n",
       "       [ 4, 16]])"
      ]
     },
     "execution_count": 30,
     "metadata": {},
     "output_type": "execute_result"
    }
   ],
   "source": [
    "z.T"
   ]
  },
  {
   "cell_type": "markdown",
   "metadata": {},
   "source": [
    "**Dot Product:** \n",
    "\n",
    "**[x1,x2,x2]clo[y1,y2,y3] = x1y1+x2xy2+x3y3 **"
   ]
  },
  {
   "cell_type": "code",
   "execution_count": 31,
   "metadata": {},
   "outputs": [
    {
     "data": {
      "text/plain": [
       "32"
      ]
     },
     "execution_count": 31,
     "metadata": {},
     "output_type": "execute_result"
    }
   ],
   "source": [
    "x=np.array([1,2,3])\n",
    "y=np.array([4,5,6])\n",
    "x.dot(y) # dot product  1*4 + 2*5 + 3*6"
   ]
  },
  {
   "cell_type": "markdown",
   "metadata": {},
   "source": [
    "### Iterating Over Arrays\n",
    "\n",
    "create a new 4 by 3 array of random numbers 0-9.\n"
   ]
  },
  {
   "cell_type": "code",
   "execution_count": 33,
   "metadata": {},
   "outputs": [
    {
     "data": {
      "text/plain": [
       "array([[3, 5, 9],\n",
       "       [5, 5, 5],\n",
       "       [9, 0, 0],\n",
       "       [5, 2, 7]])"
      ]
     },
     "execution_count": 33,
     "metadata": {},
     "output_type": "execute_result"
    }
   ],
   "source": [
    "tp = np.random.randint(0, 10, (4,3))\n",
    "tp"
   ]
  },
  {
   "cell_type": "code",
   "execution_count": 34,
   "metadata": {},
   "outputs": [
    {
     "name": "stdout",
     "output_type": "stream",
     "text": [
      "[3 5 9]\n",
      "[5 5 5]\n",
      "[9 0 0]\n",
      "[5 2 7]\n"
     ]
    }
   ],
   "source": [
    "#Iterate by row:\n",
    "\n",
    "for row in tp:\n",
    "    print(row)"
   ]
  },
  {
   "cell_type": "code",
   "execution_count": 35,
   "metadata": {},
   "outputs": [
    {
     "name": "stdout",
     "output_type": "stream",
     "text": [
      "row 0 is [3 5 9]\n",
      "row 1 is [5 5 5]\n",
      "row 2 is [9 0 0]\n",
      "row 3 is [5 2 7]\n"
     ]
    }
   ],
   "source": [
    "#Iterate by index:\n",
    "\n",
    "for i, row in enumerate(tp):\n",
    "    print('row', i, 'is', row)"
   ]
  },
  {
   "cell_type": "code",
   "execution_count": 36,
   "metadata": {},
   "outputs": [
    {
     "data": {
      "text/plain": [
       "array([[ 6, 10, 18],\n",
       "       [10, 10, 10],\n",
       "       [18,  0,  0],\n",
       "       [10,  4, 14]])"
      ]
     },
     "execution_count": 36,
     "metadata": {},
     "output_type": "execute_result"
    }
   ],
   "source": [
    "#Use zip to iterate over multiple iterables.\n",
    "\n",
    "tp2=tp*2\n",
    "tp2"
   ]
  },
  {
   "cell_type": "code",
   "execution_count": 37,
   "metadata": {},
   "outputs": [
    {
     "name": "stdout",
     "output_type": "stream",
     "text": [
      "[3 5 9] + [ 6 10 18] = [ 9 15 27]\n",
      "[5 5 5] + [10 10 10] = [15 15 15]\n",
      "[9 0 0] + [18  0  0] = [27  0  0]\n",
      "[5 2 7] + [10  4 14] = [15  6 21]\n"
     ]
    }
   ],
   "source": [
    "for i, j in zip(tp, tp2):\n",
    "    print(i,'+',j,'=',i+j)"
   ]
  },
  {
   "cell_type": "markdown",
   "metadata": {},
   "source": [
    "NumPy package contains an iterator object numpy.nditer. It is an efficient multidimensional iterator object using which it is possible to iterate over an array."
   ]
  },
  {
   "cell_type": "code",
   "execution_count": 38,
   "metadata": {},
   "outputs": [
    {
     "name": "stdout",
     "output_type": "stream",
     "text": [
      "Original array is:\n",
      "[[ 0  5 10 15]\n",
      " [20 25 30 35]\n",
      " [40 45 50 55]]\n",
      "\n",
      "\n",
      "Modified array is:\n",
      "0\n",
      "5\n",
      "10\n",
      "15\n",
      "20\n",
      "25\n",
      "30\n",
      "35\n",
      "40\n",
      "45\n",
      "50\n",
      "55\n"
     ]
    }
   ],
   "source": [
    "a = np.arange(0,60,5)\n",
    "a = a.reshape(3,4)\n",
    "\n",
    "print ('Original array is:')\n",
    "print (a)\n",
    "print ('\\n')\n",
    "\n",
    "print ('Modified array is:')\n",
    "for x in np.nditer(a):\n",
    "   print (x)"
   ]
  },
  {
   "cell_type": "markdown",
   "metadata": {},
   "source": [
    "**ix_() function:**\n",
    "\n",
    "The ix_ function can be used to combine different vectors so as to obtain the result for each n-tuplet."
   ]
  },
  {
   "cell_type": "code",
   "execution_count": 39,
   "metadata": {},
   "outputs": [
    {
     "data": {
      "text/plain": [
       "17"
      ]
     },
     "execution_count": 39,
     "metadata": {},
     "output_type": "execute_result"
    }
   ],
   "source": [
    "a = np.array([2,3,4,5])\n",
    "b = np.array([8,5,4])\n",
    "c = np.array([5,4,6,8,3])\n",
    "\n",
    "ax,bx,cx = np.ix_(a,b,c)\n",
    "result = ax+bx*cx\n",
    "result\n",
    "result[3,2,4]\n",
    "a[3]+b[2]*c[4]"
   ]
  },
  {
   "cell_type": "markdown",
   "metadata": {},
   "source": [
    "### cs-4\n",
    "\n",
    "**Topics :** \n",
    "Matlib subpackage,\n",
    "matrix, \n",
    "linear algebra method,\n",
    "matplotlib using numpy. \n"
   ]
  },
  {
   "cell_type": "code",
   "execution_count": 15,
   "metadata": {},
   "outputs": [
    {
     "name": "stdout",
     "output_type": "stream",
     "text": [
      "[[ 1.  0.]\n",
      " [ 0.  0.]]\n",
      "\n",
      "\n",
      "[[ 1.  1.]\n",
      " [ 1.  1.]]\n",
      "\n",
      "\n",
      "[[ 0.15035944  0.67602735  0.92022026]\n",
      " [ 0.76913735  0.56072559  0.90327483]\n",
      " [ 0.33511206  0.41005958  0.92263148]]\n",
      "\n",
      "\n",
      "[[ 0.  0.]\n",
      " [ 0.  0.]]\n",
      "\n",
      "\n",
      "[[ 0.  1.  0.]\n",
      " [ 0.  0.  1.]\n",
      " [ 0.  0.  0.]]\n",
      "\n",
      "\n"
     ]
    },
    {
     "data": {
      "text/plain": [
       "matrix([[ 1.,  0.,  0.],\n",
       "        [ 0.,  1.,  0.],\n",
       "        [ 0.,  0.,  1.]])"
      ]
     },
     "execution_count": 15,
     "metadata": {},
     "output_type": "execute_result"
    }
   ],
   "source": [
    "#NumPy package contains a Matrix library numpy.matlib. \n",
    "import numpy.matlib\n",
    "#matlib.empty()\n",
    "#numpy.matlib.empty(shape, dtype, order)\n",
    "print (np.matlib.empty((2,2)))\n",
    "print('\\n')\n",
    "#ones\n",
    "print (np.matlib.ones((2,2)))\n",
    "print('\\n')\n",
    "#random\n",
    "print (np.matlib.rand(3,3))\n",
    "print('\\n')\n",
    "#This function returns the matrix filled with zeros.\n",
    "#numpy.matlib.zeros()\n",
    "print (np.matlib.zeros((2,2))) \n",
    "print('\\n')\n",
    "#numpy.matlib.eye()\n",
    "#This function returns a matrix with 1 along the diagonal elements and the zeros elsewhere. The function takes the following parameters.\n",
    "#numpy.matlib.eye(n, M,k, dtype)\n",
    "print (np.matlib.eye(n = 3, M = 3, k = 1, dtype = float))\n",
    "print('\\n')\n",
    "#numpy.matlib.identity()\n",
    "#The numpy.matlib.identity() function returns the Identity matrix of the given size. \n",
    "#An identity matrix is a square matrix with all diagonal elements as 1.\n",
    "np.matlib.identity(3)"
   ]
  },
  {
   "cell_type": "code",
   "execution_count": 18,
   "metadata": {},
   "outputs": [
    {
     "name": "stdout",
     "output_type": "stream",
     "text": [
      "[[1 2 3 4]]\n",
      "[[1 2 3 4]]\n",
      "<class 'numpy.matrixlib.defmatrix.matrix'>\n"
     ]
    }
   ],
   "source": [
    "#creation matrix\n",
    "i = np.matrix('1,2,3,4') \n",
    "print(i)\n",
    "#array to matrix\n",
    "list=[1,2,3,4]\n",
    "k = np.asmatrix (list)\n",
    "print(k)\n",
    "print(type(k))"
   ]
  },
  {
   "cell_type": "markdown",
   "metadata": {},
   "source": [
    "NumPy package contains **numpy.linalg module** that provides all the functionality required for linear algebra"
   ]
  },
  {
   "cell_type": "code",
   "execution_count": 19,
   "metadata": {},
   "outputs": [
    {
     "name": "stdout",
     "output_type": "stream",
     "text": [
      "[[ 6  1  1]\n",
      " [ 4 -2  5]\n",
      " [ 2  8  7]]\n",
      "\n",
      "\n",
      "-306.0\n",
      "\n",
      "\n",
      "-306\n"
     ]
    }
   ],
   "source": [
    "#det\n",
    "b = np.array([[6,1,1], [4, -2, 5], [2,8,7]]) \n",
    "print (b) \n",
    "print('\\n')\n",
    "print (np.linalg.det(b))\n",
    "print('\\n')\n",
    "print (6*(-2*7 - 5*8) - 1*(4*7 - 5*2) + 1*(4*8 - -2*2))"
   ]
  },
  {
   "cell_type": "code",
   "execution_count": 20,
   "metadata": {},
   "outputs": [
    {
     "name": "stdout",
     "output_type": "stream",
     "text": [
      "[[37 40]\n",
      " [85 92]]\n",
      "\n",
      "\n",
      "130\n"
     ]
    }
   ],
   "source": [
    "#dot\n",
    "#Dot product of the two arrays\n",
    "\n",
    "#vdot\n",
    "#Dot product of the two vectors\n",
    "\n",
    "#linear\n",
    "dou = np.array([[1,2],[3,4]]) \n",
    "bou = np.array([[11,12],[13,14]]) \n",
    "\n",
    "print(np.dot(dou,bou)) #[[1*11+2*13, 1*12+2*14],[3*11+4*13, 3*12+4*14]]\n",
    "print('\\n')\n",
    "print(np.vdot(dou,bou)) #1*11 + 2*12 + 3*13 + 4*14"
   ]
  },
  {
   "cell_type": "code",
   "execution_count": 21,
   "metadata": {},
   "outputs": [
    {
     "name": "stdout",
     "output_type": "stream",
     "text": [
      "[ 2.  3.]\n"
     ]
    }
   ],
   "source": [
    "#Solve the system of equations 3 * x0 + x1 = 9 and x0 + 2 * x1 = 8:\n",
    "al = np.array([[3,1], [1,2]])\n",
    "bl = np.array([9,8])\n",
    "x = np.linalg.solve(al, bl)\n",
    "print(x)"
   ]
  },
  {
   "cell_type": "code",
   "execution_count": 22,
   "metadata": {},
   "outputs": [
    {
     "name": "stdout",
     "output_type": "stream",
     "text": [
      "[[ 1  1  1]\n",
      " [ 0  2  5]\n",
      " [ 2  5 -1]]\n",
      "\n",
      "\n",
      "[[ 1.28571429 -0.28571429 -0.14285714]\n",
      " [-0.47619048  0.14285714  0.23809524]\n",
      " [ 0.19047619  0.14285714 -0.0952381 ]]\n"
     ]
    }
   ],
   "source": [
    "a = np.array([[1,1,1],[0,2,5],[2,5,-1]]) \n",
    "#'Array a\n",
    "print (a) \n",
    "       \n",
    "print('\\n')    \n",
    "ainv = np.linalg.inv(a) \n",
    "print(ainv)"
   ]
  },
  {
   "cell_type": "markdown",
   "metadata": {},
   "source": [
    "**Using Matplotlib with numpy**"
   ]
  },
  {
   "cell_type": "code",
   "execution_count": 23,
   "metadata": {},
   "outputs": [
    {
     "data": {
      "image/png": "[encoded data removed]",
      "text/plain": [
       "<matplotlib.figure.Figure at 0x2822f7c11d0>"
      ]
     },
     "metadata": {},
     "output_type": "display_data"
    }
   ],
   "source": [
    "from matplotlib import pyplot as plt \n",
    "\n",
    "x = np.arange(1,11) \n",
    "y = 2 * x + 5 \n",
    "plt.title(\"Matplotlib demo\") \n",
    "plt.xlabel(\"x axis caption\") \n",
    "plt.ylabel(\"y axis caption\") \n",
    "plt.plot(x,y) \n",
    "plt.show()"
   ]
  },
  {
   "cell_type": "code",
   "execution_count": 24,
   "metadata": {},
   "outputs": [
    {
     "data": {
      "text/plain": [
       "array([ 0.,  0.,  0.,  0.,  0.,  0.,  0.,  0.])"
      ]
     },
     "execution_count": 24,
     "metadata": {},
     "output_type": "execute_result"
    }
   ],
   "source": [
    "N = 8\n",
    "y = np.zeros(N)\n",
    "y"
   ]
  },
  {
   "cell_type": "code",
   "execution_count": 28,
   "metadata": {
    "collapsed": true
   },
   "outputs": [],
   "source": [
    "x1 = np.linspace(0, 10, N, endpoint=True)"
   ]
  },
  {
   "cell_type": "code",
   "execution_count": 29,
   "metadata": {
    "collapsed": true
   },
   "outputs": [],
   "source": [
    "x2 = np.linspace(0, 10, N, endpoint=False)"
   ]
  },
  {
   "cell_type": "code",
   "execution_count": 30,
   "metadata": {},
   "outputs": [
    {
     "data": {
      "text/plain": [
       "[<matplotlib.lines.Line2D at 0x2823071a4a8>]"
      ]
     },
     "execution_count": 30,
     "metadata": {},
     "output_type": "execute_result"
    }
   ],
   "source": [
    "plt.plot(x1, y, 'o')\n",
    "\n",
    "plt.plot(x2, y + 0.5, 'o')"
   ]
  },
  {
   "cell_type": "code",
   "execution_count": 31,
   "metadata": {},
   "outputs": [
    {
     "data": {
      "image/png": "[encoded data removed]",
      "text/plain": [
       "<matplotlib.figure.Figure at 0x2823071a470>"
      ]
     },
     "metadata": {},
     "output_type": "display_data"
    }
   ],
   "source": [
    "plt.ylim([-0.5, 1])\n",
    "plt.show()"
   ]
  },
  {
   "cell_type": "markdown",
   "metadata": {},
   "source": [
    "# ** Overview **"
   ]
  },
  {
   "cell_type": "code",
   "execution_count": 33,
   "metadata": {},
   "outputs": [
    {
     "name": "stdout",
     "output_type": "stream",
     "text": [
      "0.10027027130126953 0.0\n"
     ]
    }
   ],
   "source": [
    "import time\n",
    "import numpy as np\n",
    "\n",
    "size_of_vec = 100000\n",
    "\n",
    "def pure_python_version():\n",
    "    t1 = time.time()\n",
    "    X = range(size_of_vec)\n",
    "    Y = range(size_of_vec)\n",
    "    Z = []\n",
    "    for i in range(len(X)):\n",
    "        Z.append(X[i] + Y[i])\n",
    "    return time.time() - t1\n",
    "\n",
    "def numpy_version():\n",
    "    t1 = time.time()\n",
    "    X = np.arange(size_of_vec)\n",
    "    Y = np.arange(size_of_vec)\n",
    "    Z = X + Y\n",
    "    return time.time() - t1\n",
    "\n",
    "\n",
    "t1 = pure_python_version()\n",
    "t2 = numpy_version()\n",
    "print(t1, t2)\n",
    "#print(\"this example Numpy is \" + str(t1/t2) + \" faster!\")"
   ]
  }
 ],
 "metadata": {
  "kernelspec": {
   "display_name": "Python 3",
   "language": "python",
   "name": "python3"
  },
  "language_info": {
   "codemirror_mode": {
    "name": "ipython",
    "version": 3
   },
   "file_extension": ".py",
   "mimetype": "text/x-python",
   "name": "python",
   "nbconvert_exporter": "python",
   "pygments_lexer": "ipython3",
   "version": "3.6.1"
  }
 },
 "nbformat": 4,
 "nbformat_minor": 2
}
