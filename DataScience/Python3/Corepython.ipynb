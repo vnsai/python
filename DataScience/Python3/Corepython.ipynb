{
 "cells": [
  {
   "cell_type": "markdown",
   "metadata": {},
   "source": [
    "### Cs-3:\n",
    "###### Topics \n",
    "\n",
    "* Keywords in python\n",
    "* Conditional statements\n",
    "* Iterative or continue statements\n",
    "* Break and Continue\n",
    "* Pass statement\n",
    "* Looping technique\n",
    "* Assignment \n",
    "\n"
   ]
  },
  {
   "cell_type": "code",
   "execution_count": null,
   "metadata": {
    "collapsed": true
   },
   "outputs": [],
   "source": [
    "var=10 #(Ture)\n",
    "\n",
    "var   #(FALSE)"
   ]
  },
  {
   "cell_type": "code",
   "execution_count": null,
   "metadata": {},
   "outputs": [],
   "source": [
    "val=int(input(\"enter the no 1\"))\n",
    "#val=int(val)\n",
    "val2=int(input(\"enter the no 2\"))\n",
    "\n",
    "print(val)\n",
    "print(val2)\n",
    "\n",
    "c=val+val2\n",
    "print(c)\n",
    "\n",
    "print(type(val))\n",
    "\n"
   ]
  },
  {
   "cell_type": "code",
   "execution_count": null,
   "metadata": {},
   "outputs": [],
   "source": [
    "\"\"\" \n",
    "#synatx\n",
    "if(cond):\n",
    "    print(\"hello\")\n",
    "    print(\"hello\")\n",
    "\n",
    "\"\"\"\n",
    "#condtion statements \n",
    "#simple if \n",
    "numb=int(input(\"enter the value\"))\n",
    "var=int(input(\"enter the value two\"))\n",
    "if(numb>var):\n",
    "    print(\"yeah ! number is numb and var are not same\")\n",
    "    print(\"cod2\")\n",
    "    print(\"cod3\")\n",
    "\n",
    "print(\"Done\")"
   ]
  },
  {
   "cell_type": "code",
   "execution_count": null,
   "metadata": {},
   "outputs": [],
   "source": [
    "#if else condition:\n",
    "\n",
    "\"\"\"\n",
    "if(condtion):\n",
    "    statments 1...n\n",
    "else:\n",
    "    statements 1 ... n\n",
    "\n",
    "\"\"\"\n",
    "numb=input(\"enter the session\")\n",
    "#var=int(input(\"enter the value two\"))\n",
    "if(numb==\"morning\"):\n",
    "    print(\"yeah good morning ! have a good start\")\n",
    "else:\n",
    "    print(\"plz complete the work first\")\n",
    "\n",
    "print(\"Done\")"
   ]
  },
  {
   "cell_type": "code",
   "execution_count": null,
   "metadata": {},
   "outputs": [],
   "source": [
    "#if elseif else \n",
    "numb=int(input(\"enter the value\"))\n",
    "var=int(input(\"enter the value two\"))\n",
    "\n",
    "if(numb>var):\n",
    "    print(\"yeah ! number is numb and var are not same\")\n",
    "elif(numb<var):\n",
    "    print(\"num is less than var\")\n",
    "else:\n",
    "    print(\"we need to do something\")\n",
    "    \n",
    "print(\"Done with the code\")"
   ]
  },
  {
   "cell_type": "markdown",
   "metadata": {},
   "source": [
    "### Iterative statements or continue statements\n"
   ]
  },
  {
   "cell_type": "code",
   "execution_count": null,
   "metadata": {},
   "outputs": [],
   "source": [
    "name=\"datascience\"\n",
    "       #0 1 2....12\n",
    "#val='1''2'\n",
    "\"\"\"\n",
    "syntax :\n",
    "=======\n",
    "for temp in seq:\n",
    "    print(\"statements\")\n",
    "    \n",
    "\n",
    "\"\"\"\n",
    "for char in name:\n",
    "    print(char)\n",
    "    \n",
    "print(\"Done\")"
   ]
  },
  {
   "cell_type": "code",
   "execution_count": null,
   "metadata": {},
   "outputs": [],
   "source": [
    "numberlist=[10,20,30]\n",
    "numsum=0\n",
    "\n",
    "for num in numberlist:\n",
    "    #numberr=0\n",
    "    print(\"Number \", num)\n",
    "    numsum+=num\n",
    "    #number+=num\n",
    "    print(\"After summing\", numsum)\n",
    "    #print(\"the value of number\",number)\n",
    "\n",
    "#print(numberr)\n",
    "print(\"outside summing\", numsum)\n",
    "\n",
    "print(\"Done\")"
   ]
  },
  {
   "cell_type": "code",
   "execution_count": null,
   "metadata": {},
   "outputs": [],
   "source": [
    "#while \n",
    "num=10\n",
    "i=1\n",
    "sum=0\n",
    "while i<=num: #i=10 num=10\n",
    "\tprint(\"value of i\",i)\n",
    "\tsum=sum+i\n",
    "\ti=i+1\n",
    "\tprint(\"print the value of sum\",sum)\n",
    "\tprint(\"after i+1 value of i\",i)\n",
    "\n",
    "print(\"sum value\",sum)\n",
    "\n",
    "#string =\"hello\" or list=[\"names\",\"hello\"],tuple=(\"names\",\"hello\")"
   ]
  },
  {
   "cell_type": "code",
   "execution_count": null,
   "metadata": {},
   "outputs": [],
   "source": [
    "#break\n",
    "name=\"bring\"\n",
    "for val in name:\n",
    "    if val == \"i\":\n",
    "        break\n",
    "        print(\"hello\")\n",
    "    print(val)\n",
    "    \n",
    "\n",
    "print(\"The end\")"
   ]
  },
  {
   "cell_type": "code",
   "execution_count": null,
   "metadata": {},
   "outputs": [],
   "source": [
    "#continue\n",
    "for val in \"bring\":\n",
    "    if val == \"i\":\n",
    "        continue\n",
    "    print(val)\n",
    "\n",
    "print(\"The end\")"
   ]
  },
  {
   "cell_type": "code",
   "execution_count": null,
   "metadata": {
    "collapsed": true
   },
   "outputs": [],
   "source": [
    "#someone one to develop the code\n",
    "sequence = 'pass'\n",
    "for val in sequence:\n",
    "#developer need to develop the logit\n",
    "    pass\n",
    "\n"
   ]
  },
  {
   "cell_type": "markdown",
   "metadata": {},
   "source": [
    "#### CS-4\n",
    "\n",
    "#### Topics\n",
    "\n",
    "* Functions\n",
    "* Function Argument\n",
    "* recursion\n",
    "* Anonymous function\n",
    "* Python Modules\n",
    "* packages\n",
    "* Assignment \n"
   ]
  },
  {
   "cell_type": "code",
   "execution_count": null,
   "metadata": {},
   "outputs": [],
   "source": [
    "print(\"hello\")\n",
    "\n",
    "type(1.5)"
   ]
  },
  {
   "cell_type": "code",
   "execution_count": null,
   "metadata": {
    "collapsed": true
   },
   "outputs": [],
   "source": [
    "\"\"\" \n",
    "syntax :\n",
    "def function_name():\n",
    "\tstatements\n",
    "\treturn val (optional)\n",
    "    \"\"\""
   ]
  },
  {
   "cell_type": "code",
   "execution_count": null,
   "metadata": {},
   "outputs": [],
   "source": [
    "#simple function \n",
    "def myname(name):\n",
    "    \n",
    "    \"\"\"prints out my name \"\"\"\n",
    "    print(\"my name \"+name+\" good morning to all\")\n",
    "    \n",
    "#myname(\"dilip\")\n",
    "\n",
    "myname(\"python\",\"hello\")\n",
    "\n",
    "#print(myname.__doc__)\n"
   ]
  },
  {
   "cell_type": "code",
   "execution_count": null,
   "metadata": {},
   "outputs": [],
   "source": [
    "def addi(a,b):\n",
    "    c=a+b\n",
    "    print(\"add of two numbers in function \",c)\n",
    "    return c\n",
    "\n",
    "result=addi(2,3)\n",
    "print(\"result\",result)\n"
   ]
  },
  {
   "cell_type": "code",
   "execution_count": null,
   "metadata": {},
   "outputs": [],
   "source": [
    "#return function example\n",
    "num=-10\n",
    "\n",
    "def abus_no(num):\n",
    "    if (num>0):\n",
    "        print(\"abus_no\")\n",
    "        return num\n",
    "    else:\n",
    "        return -num\n",
    "\n",
    "\n",
    "number=abus_no(num)\n",
    "print(number)"
   ]
  },
  {
   "cell_type": "code",
   "execution_count": null,
   "metadata": {},
   "outputs": [],
   "source": [
    "#scope\n",
    "x=10\n",
    "y=20\n",
    "\n",
    "total=0\n",
    "\n",
    "def sum(a,b):\n",
    "    total=a+b\n",
    "    print(\"total inside the method \",total)\n",
    "    return total\n",
    "\n",
    "tot=sum(x,y)\n",
    "\n",
    "print(total)\n",
    "print(tot)"
   ]
  },
  {
   "cell_type": "code",
   "execution_count": null,
   "metadata": {
    "collapsed": true
   },
   "outputs": [],
   "source": [
    "#  Types of functions : Build in functions and user defined functions \n",
    "#  Assignment : Simple Calculator by Making Functions."
   ]
  },
  {
   "cell_type": "code",
   "execution_count": null,
   "metadata": {
    "collapsed": true
   },
   "outputs": [],
   "source": [
    "#function arugment types\n",
    "\n",
    "#Required Args\n",
    "def sayhello(name,msg):\n",
    "    print(\"Hello\",name +\", \" +msg)"
   ]
  },
  {
   "cell_type": "code",
   "execution_count": null,
   "metadata": {},
   "outputs": [],
   "source": [
    "sayhello(\"good morning\",\"dilip\")"
   ]
  },
  {
   "cell_type": "code",
   "execution_count": null,
   "metadata": {},
   "outputs": [],
   "source": [
    "#Keyword arguments\n",
    "def sayhello(name=\"datascience\",msg=\"good morning\"):\n",
    "\tprint(\"Hello\",name +\",\" +msg)\n",
    "    \n",
    "    \n",
    "sayhello(msg=\"gm\",name=\"dilip\")"
   ]
  },
  {
   "cell_type": "code",
   "execution_count": null,
   "metadata": {},
   "outputs": [],
   "source": [
    "#Default arguments \n",
    "def sayhello(name,msg=\"good morning\"):\n",
    "\n",
    "    print(\"Hello\",name +\",\" +msg)\n",
    "    \n",
    "sayhello(\"dilip\")"
   ]
  },
  {
   "cell_type": "code",
   "execution_count": null,
   "metadata": {},
   "outputs": [],
   "source": [
    "def manyarg(*names):\n",
    "    print(names)\n",
    "    return names\n",
    "\n",
    "names=manyarg(\"dilip\",\"python\",\"sonal\")\n",
    "\n",
    "type(names)"
   ]
  },
  {
   "cell_type": "code",
   "execution_count": null,
   "metadata": {},
   "outputs": [],
   "source": [
    "#nested if\n",
    "marks=58\n",
    "\n",
    "if(marks>=90):\n",
    "    print(\"you got A grade\")\n",
    "elif(marks>=80):\n",
    "    print(\"you got B grade\")\n",
    "    \n",
    "elif(marks>=60):\n",
    "    print(\"you got c grade\")\n",
    "else:\n",
    "    print(\"you failed in the exam\")\n",
    "    print(\"you have to take the exam once again\")    \n",
    "\n",
    "print(\"Thank-you\")"
   ]
  },
  {
   "cell_type": "code",
   "execution_count": null,
   "metadata": {},
   "outputs": [],
   "source": [
    "#lamda functions \n",
    "doubele=lambda x:x*5\n",
    "print(doubele(5))\n"
   ]
  },
  {
   "cell_type": "markdown",
   "metadata": {},
   "source": [
    "## cs-5\n",
    "\n",
    "* Numbers\n",
    "* Strings\n",
    "* Lists\n",
    "* Tuples\n",
    "* Dictionary\n",
    "* Sets\n"
   ]
  },
  {
   "cell_type": "code",
   "execution_count": null,
   "metadata": {},
   "outputs": [],
   "source": [
    "from fractions import Fraction as F\n",
    "\n",
    "# Output: 2/3\n",
    "print(F(1,3) + F(1,3))\n",
    "\n",
    "# Output: 6/5\n",
    "print(1 / F(5,6))\n",
    "\n",
    "# Output: False\n",
    "print(F(-3,10) > 0)\n",
    "\n",
    "# Output: True\n",
    "print(F(-3,10) < 0)"
   ]
  },
  {
   "cell_type": "code",
   "execution_count": null,
   "metadata": {},
   "outputs": [],
   "source": [
    "import math\n",
    "# Output: 3.141592653589793\n",
    "print(math.pi)\n",
    "# Output: -1.0\n",
    "print(math.cos(math.pi))\n",
    "# Output: 22026.465794806718\n",
    "print(math.exp(10))\n",
    "# Output: 3.0\n",
    "print(math.log10(1000))"
   ]
  },
  {
   "cell_type": "code",
   "execution_count": null,
   "metadata": {},
   "outputs": [],
   "source": [
    "import random\n",
    "# Output: 16\n",
    "print(random.randrange(10,20))\n",
    "x = ['a', 'b', 'c', 'd', 'e']\n",
    "# Get random choice\n",
    "print(random.choice(x))\n",
    "# Shuffle x\n",
    "random.shuffle(x)\n",
    "# Print the shuffled x\n",
    "print(x)\n",
    "# Print random element"
   ]
  },
  {
   "cell_type": "code",
   "execution_count": null,
   "metadata": {},
   "outputs": [],
   "source": [
    "(1.1 + 2.2) == 3.3\n",
    "\n",
    "1.1+2.2"
   ]
  },
  {
   "cell_type": "code",
   "execution_count": null,
   "metadata": {},
   "outputs": [],
   "source": [
    "from decimal import Decimal as D\n",
    "# Output: Decimal('3.3')\n",
    "print(D('1.1') + D('2.2'))\n",
    "# Output: Decimal('3.000')\n",
    "print(D('1.2') * D('2.50'))"
   ]
  },
  {
   "cell_type": "markdown",
   "metadata": {},
   "source": [
    "### lists "
   ]
  },
  {
   "cell_type": "code",
   "execution_count": null,
   "metadata": {
    "collapsed": true
   },
   "outputs": [],
   "source": [
    "# empty list\n",
    "my_list = []\n",
    "\n",
    "# list of integers\n",
    "my_list = [1, 2, 3]\n",
    "\n",
    "# list with mixed datatypes\n",
    "my_list = [1, \"Hello\", 3.4]\n",
    "# nested list"
   ]
  },
  {
   "cell_type": "markdown",
   "metadata": {},
   "source": [
    "### Indexing "
   ]
  },
  {
   "cell_type": "code",
   "execution_count": null,
   "metadata": {},
   "outputs": [],
   "source": [
    " my_list = ['D','i','l','i','p']\n",
    "# Output: p\n",
    "print(my_list[0])\n",
    "# Output: o\n",
    "print(my_list[2])\n",
    "# Output: e\n",
    "print(my_list[4])\n",
    "# Error! Only integer can be used for indexing\n",
    "#my_list[5]\n",
    "# Nested List\n",
    "n_list = [\"Happy\", [2,0,1,5]]\n",
    "# Nested indexing\n",
    "# Output: a\n",
    "#print(n_list[0][4])    \n",
    "# Output: 5\n",
    "print(n_list[1][3])"
   ]
  },
  {
   "cell_type": "code",
   "execution_count": null,
   "metadata": {},
   "outputs": [],
   "source": [
    "### Negative Indexing :\n",
    "my_list = ['D','a','t','a','e']\n",
    "\n",
    "# Output: e\n",
    "print(my_list[-2])\n",
    "\n",
    "# Output: p\n",
    "print(my_list[-5])"
   ]
  },
  {
   "cell_type": "code",
   "execution_count": null,
   "metadata": {},
   "outputs": [],
   "source": [
    "my_list = ['p','r','o','g','r','a','m','i','e']\n",
    "# elements 3rd to 5th\n",
    "print(my_list[2:5])\n",
    "\n",
    "# elements beginning to 4th\n",
    "print(my_list[:-5])\n",
    "\n",
    "# elements 6th to end\n",
    "print(my_list[5:])\n",
    "\n",
    "# elements beginning to end\n",
    "print(my_list[:])"
   ]
  },
  {
   "cell_type": "code",
   "execution_count": null,
   "metadata": {},
   "outputs": [],
   "source": [
    "#update elements\n",
    "# mistake values\n",
    "odd = [2, 4, 6, 8]\n",
    "\n",
    "# change the 1st item    \n",
    "odd[0] = 1            \n",
    "\n",
    "# Output: [1, 4, 6, 8]\n",
    "print(odd)\n",
    "\n",
    "# change 2nd to 4th items\n",
    "odd[1:4] = [3, 5, 7]  \n",
    "\n",
    "# Output: [1, 3, 5, 7]\n",
    "print(odd)  "
   ]
  },
  {
   "cell_type": "code",
   "execution_count": null,
   "metadata": {},
   "outputs": [],
   "source": [
    "my_list = [3, 8, 1, 6, 0, 8, 4]\n",
    "# Output: 1\n",
    "print(my_list.index(8))\n",
    "# Output: 2\n",
    "print(my_list.count(8))\n",
    "my_list.sort()\n",
    "# Output: [0, 1, 3, 4, 6, 8, 8]\n",
    "print(my_list)\n",
    "my_list.reverse()\n",
    "# Output: [8, 8, 6, 4, 3, 1, 0]\n",
    "print(my_list)"
   ]
  },
  {
   "cell_type": "code",
   "execution_count": null,
   "metadata": {},
   "outputs": [],
   "source": [
    "#deleting \n",
    "\n",
    "my_list = ['p','r','o','b','l','e','m']\n",
    "# delete one item\n",
    "del my_list[2]\n",
    "# Output: ['p', 'r', 'b', 'l', 'e', 'm']     \n",
    "print(my_list)\n",
    "# delete multiple items\n",
    "del my_list[1:5]  \n",
    "# Output: ['p', 'm']\n",
    "print(my_list)\n",
    "# delete entire list\n",
    "del my_list       \n",
    "# Error: List not defined\n",
    "print(my_list)"
   ]
  },
  {
   "cell_type": "code",
   "execution_count": null,
   "metadata": {},
   "outputs": [],
   "source": [
    "my_list = ['p','r','o','b','l','e','m']\n",
    "my_list.remove('p')\n",
    "# Output: 'o'\n",
    "print(my_list.pop(1))\n",
    "my_list.clear()\n",
    "my_list"
   ]
  },
  {
   "cell_type": "code",
   "execution_count": null,
   "metadata": {},
   "outputs": [],
   "source": [
    "fruits=[\"apple\",\"mango\"]\n",
    "\n",
    "for fru in fruits:\n",
    "    print(\"fruits in my list\",fru)"
   ]
  },
  {
   "cell_type": "code",
   "execution_count": null,
   "metadata": {},
   "outputs": [],
   "source": [
    "import math\n",
    "\n",
    "dir(math)"
   ]
  },
  {
   "cell_type": "code",
   "execution_count": null,
   "metadata": {},
   "outputs": [],
   "source": [
    "a=2+3j\n",
    "\n",
    "type(a)"
   ]
  },
  {
   "cell_type": "code",
   "execution_count": null,
   "metadata": {},
   "outputs": [],
   "source": [
    "a=2\n",
    "complex(a)"
   ]
  },
  {
   "cell_type": "code",
   "execution_count": null,
   "metadata": {},
   "outputs": [],
   "source": [
    "firstlist=[\"names\",\"cars\",]\n",
    "\n",
    "type(firstlist)\n",
    "\n",
    "firsttuple=(\"names\",\"cars\",\"sonal\",\"python\")\n",
    "\n",
    "type(firsttuple)\n",
    "\n",
    "for t in firsttuple:\n",
    "    print(\"names inside the tuple:\",t)\n",
    "    \n",
    "firstlist[0]=\"dilip\"\n",
    "firstlist\n",
    "\n",
    "#firsttuple[0]=\"names\"\n",
    "\n",
    "firsttuple[1:3]"
   ]
  },
  {
   "cell_type": "code",
   "execution_count": null,
   "metadata": {},
   "outputs": [],
   "source": [
    "my_string = 'Hello'\n",
    "print(my_string)\n",
    "\n",
    "my_string = \"Hello\"\n",
    "print(my_string)\n",
    "\n",
    "my_string = '''Hello'''\n",
    "print(my_string)\n",
    "\n",
    "# triple quotes string can extend multiple lines\n",
    "my_string = \"\"\"Hello, welcome to\n",
    "           the world of Python\"\"\"\n",
    "print(my_string)\n"
   ]
  },
  {
   "cell_type": "code",
   "execution_count": null,
   "metadata": {},
   "outputs": [],
   "source": [
    "str = 'programiz'\n",
    "print('str = ', str)\n",
    "\n",
    "#first character\n",
    "print('str[0] = ', str[0])\n",
    "\n",
    "#last character\n",
    "print('str[-1] = ', str[-1])\n",
    "\n",
    "#slicing 2nd to 5th character\n",
    "print('str[1:5] = ', str[1:5])\n",
    "\n",
    "#slicing 6th to 2nd last character\n",
    "print('str[5:-2] = ', str[5:-2])\n"
   ]
  },
  {
   "cell_type": "code",
   "execution_count": null,
   "metadata": {},
   "outputs": [],
   "source": [
    "str = 'cold'\n",
    "#character count\n",
    "print('len(str) = ', len(str))\n",
    "\n"
   ]
  },
  {
   "cell_type": "code",
   "execution_count": null,
   "metadata": {},
   "outputs": [],
   "source": [
    "#Iterating Through String:\n",
    "count = 0\n",
    "for letter in 'Hello World':\n",
    "    if(letter == 'l'):\n",
    "        count += 1\n",
    "print(count,'letters found')"
   ]
  },
  {
   "cell_type": "code",
   "execution_count": null,
   "metadata": {},
   "outputs": [],
   "source": [
    "#Iterating Through String:\n",
    "count = 0\n",
    "for letter in 'Hello World':\n",
    "    if(letter == 'l'):\n",
    "        count += 1\n",
    "print(count,'letters found')"
   ]
  },
  {
   "cell_type": "code",
   "execution_count": null,
   "metadata": {},
   "outputs": [],
   "source": [
    "#Iterating Through String:\n",
    "count = 0\n",
    "for letter in 'Hello World':\n",
    "    if(letter == 'l'):\n",
    "        count += 1\n",
    "print(count,'letters found')"
   ]
  },
  {
   "cell_type": "code",
   "execution_count": null,
   "metadata": {},
   "outputs": [],
   "source": [
    "# set of integers\n",
    "my_set = {1, 2, 3}\n",
    "print(my_set)\n",
    "# set of mixed data types\n",
    "my_set = {1.0, \"Hello\", (1, 2, 3),25}\n",
    "print(my_set)\n",
    "# set do not have duplicates\n",
    "# Output: {1, 2, 3, 4}\n",
    "my_set = {1,2,3,4,3,2}\n",
    "print(my_set)\n",
    "#my_set = {1, 2, [3, 4]} #mutable list doesn't contain\n",
    "#my_set = set([1,2,3,2])#making set form list\n",
    "type(my_set)\n"
   ]
  },
  {
   "cell_type": "code",
   "execution_count": null,
   "metadata": {},
   "outputs": [],
   "source": [
    "# initialize my_set\n",
    "my_set = {1,3}\n",
    "print(my_set)\n",
    "# if you uncomment line ,\n",
    "# you will get an error\n",
    "# TypeError: 'set' object does not support indexing\n",
    "#my_set[1:]\n",
    "# add an element\n",
    "# Output: {1, 2, 3}\n",
    "my_set.add(2)\n",
    "print(my_set)\n",
    "# add multiple elements\n",
    "# Output: {1, 2, 3, 4}\n",
    "my_set.update([2,3,4])\n",
    "print(my_set)\n",
    "# add list and set\n"
   ]
  },
  {
   "cell_type": "code",
   "execution_count": null,
   "metadata": {},
   "outputs": [],
   "source": [
    "for t in my_set:\n",
    "    print (\"hello\",t)"
   ]
  },
  {
   "cell_type": "code",
   "execution_count": null,
   "metadata": {},
   "outputs": [],
   "source": [
    "# initialize my_set\n",
    "my_set = {1, 3, 4, 5, 6}\n",
    "print(my_set)\n",
    "\n",
    "# discard an element\n",
    "# Output: {1, 3, 5, 6}\n",
    "my_set.discard(10)\n",
    "print(my_set)\n",
    "\n",
    "# remove an element\n",
    "# Output: {1, 3, 5}\n",
    "my_set.remove(10)\n",
    "print(my_set)\n"
   ]
  },
  {
   "cell_type": "code",
   "execution_count": null,
   "metadata": {},
   "outputs": [],
   "source": [
    "my_dict = {'name':'pyboy', 'hi':'pyboy','age': 30}\n",
    "# Output: Jack\n",
    "print(my_dict['name'])\n",
    "# Output: 26\n",
    "print(my_dict.get('age'))\n"
   ]
  },
  {
   "cell_type": "code",
   "execution_count": null,
   "metadata": {},
   "outputs": [],
   "source": [
    "my_dict = {'name':'Jack', 'age': 26}\n",
    "print(my_dict)\n",
    "# update value\n",
    "my_dict['age'] = 27\n",
    "#Output: {'age': 27, 'name': 'Jack'}\n",
    "print(my_dict)\n",
    "# add item\n",
    "my_dict['address'] = 'Downtown'  \n",
    "# Output: {'address': 'Downtown', 'age': 27, 'name': 'Jack'}\n",
    "print(my_dict)\n",
    "\n"
   ]
  },
  {
   "cell_type": "code",
   "execution_count": null,
   "metadata": {},
   "outputs": [],
   "source": [
    "squares = {1: 1, 3: 9, 5: 25, 7: 49, 9: 81}\n",
    "for i in squares:\n",
    "    #print(i)\n",
    "    print(i,squares[i])\n"
   ]
  },
  {
   "cell_type": "code",
   "execution_count": null,
   "metadata": {},
   "outputs": [],
   "source": [
    "#file_object  = open(“filename”, “mode”)\n",
    "\n",
    "file=open(\"C:/Users/SHAIK NAWAAZ/Desktop/python/text.txt\",\"w\")\n",
    "#print(file)\n",
    "\n",
    "\n",
    "#print(type(file.read()))\n",
    "#print(file.read())\n",
    "#print(file.seek(0))\n",
    "file.write(\"we added data to the file\")\n",
    "print(\"read again\")\n",
    "#print(file.read())\n",
    "#print(file.tell())\n",
    "#print(file.readline())\n",
    "#print(file.readlines())\n",
    "\n",
    "file.close()\n",
    "\n",
    "\n"
   ]
  },
  {
   "cell_type": "code",
   "execution_count": null,
   "metadata": {
    "collapsed": true
   },
   "outputs": [],
   "source": [
    "import math as m"
   ]
  },
  {
   "cell_type": "code",
   "execution_count": null,
   "metadata": {},
   "outputs": [],
   "source": [
    "m.pi"
   ]
  },
  {
   "cell_type": "code",
   "execution_count": null,
   "metadata": {
    "collapsed": true
   },
   "outputs": [],
   "source": [
    "import os as o"
   ]
  },
  {
   "cell_type": "code",
   "execution_count": null,
   "metadata": {},
   "outputs": [],
   "source": [
    "o.pi\n"
   ]
  },
  {
   "cell_type": "code",
   "execution_count": null,
   "metadata": {},
   "outputs": [],
   "source": [
    "class Egclass:\n",
    "    #def __init__(self):\n",
    "            #print (\"in init\")\n",
    "    a=50\n",
    "    def myprint(self):\n",
    "        print(\"hello to oops\")\n",
    "print(Egclass.a)\n",
    "#Egclass.myprint()\n",
    "ob=Egclass()\n",
    "ob.myprint()\n"
   ]
  },
  {
   "cell_type": "markdown",
   "metadata": {
    "collapsed": true
   },
   "source": [
    "### matplot lib "
   ]
  },
  {
   "cell_type": "code",
   "execution_count": null,
   "metadata": {
    "collapsed": true
   },
   "outputs": [],
   "source": [
    "import matplotlib.pyplot as plt"
   ]
  },
  {
   "cell_type": "code",
   "execution_count": null,
   "metadata": {},
   "outputs": [],
   "source": [
    "#simple line example\n",
    "#co-ordinates as (1,5),(2,7),(3,4)\n",
    "plt.plot([1,2,3],[5,7,4])"
   ]
  },
  {
   "cell_type": "code",
   "execution_count": null,
   "metadata": {},
   "outputs": [],
   "source": [
    "plt.show()"
   ]
  },
  {
   "cell_type": "code",
   "execution_count": null,
   "metadata": {},
   "outputs": [],
   "source": [
    "#using pyplot and numpy as single package or module\n",
    "from pylab import *\n",
    "plot([1,2,3,4])\n",
    "show()"
   ]
  },
  {
   "cell_type": "code",
   "execution_count": null,
   "metadata": {},
   "outputs": [],
   "source": [
    "from pylab import *\n",
    "lines = plot([1,2,3],'b-',[0,1,2],'r--')\n",
    "#legend(lines, ('First','Second'))\n",
    "#savefig('legend')\n",
    "show()"
   ]
  },
  {
   "cell_type": "code",
   "execution_count": null,
   "metadata": {},
   "outputs": [],
   "source": [
    "#line 1\n",
    "x = [1,2,3]\n",
    "y = [5,8,9]\n",
    "\n",
    "#line 2\n",
    "x2 = [1,2,3]\n",
    "y2 = [15,12,13]\n",
    "\n",
    "#label is the attribute used to name a line\n",
    "plt.plot(x, y, label='First Line')\n",
    "plt.plot(x2, y2, label='Second Line')\n",
    "#plt.legend()\n",
    "#xlabel and ylabel are used to name the axis\n",
    "plt.xlabel(\"Plot no's\")\n",
    "plt.ylabel(\"variance\")\n",
    "#title is used to name the graph \n",
    "plt.title('Two line Graph')\n",
    "#legend is used to show the line_names\n",
    "#plt.legend()\n",
    "plt.show() "
   ]
  },
  {
   "cell_type": "code",
   "execution_count": null,
   "metadata": {
    "collapsed": true
   },
   "outputs": [],
   "source": [
    "import matplotlib.pyplot as plt"
   ]
  },
  {
   "cell_type": "code",
   "execution_count": 9,
   "metadata": {},
   "outputs": [
    {
     "data": {
      "image/png": "[encoded data removed]",
      "text/plain": [
       "<matplotlib.figure.Figure at 0x163f44a6908>"
      ]
     },
     "metadata": {},
     "output_type": "display_data"
    }
   ],
   "source": [
    "#bars\n",
    "#reading the list of values as x1,y1\n",
    "plt.bar([1,3,5,7,13],[5,2,7,8,6], label=\"BarEg one\")\n",
    "#reading the list of values as x2,y2\n",
    "plt.bar([2,4,12,8,10],[8,6,3,5,7], label=\"BarEg two\", color='g')\n",
    "plt.legend()\n",
    "#naming the x,y axis\n",
    "plt.xlabel('number')\n",
    "plt.ylabel('height of bar')\n",
    "#naming the graph\n",
    "plt.title(\"Bar\")\n",
    "#showing the plot \n",
    "plt.show()"
   ]
  },
  {
   "cell_type": "code",
   "execution_count": 10,
   "metadata": {},
   "outputs": [
    {
     "data": {
      "image/png": "[encoded data removed]",
      "text/plain": [
       "<matplotlib.figure.Figure at 0x163f4366470>"
      ]
     },
     "metadata": {},
     "output_type": "display_data"
    }
   ],
   "source": [
    "#histogram\n",
    "\n",
    "#ages as list of elements\n",
    "ages = [15,22,55,62,45,21,22,34,43,42,4,99,102,110,120,121,122,125,111,115,112,80,75,65,54,44,43,42,48]\n",
    "#in between \n",
    "bins = [0,10,20,30,40,50,60,70,80,90,100,110,120,130]\n",
    "\n",
    "plt.hist(ages, bins, histtype='bar', rwidth=0.8)\n",
    "\n",
    "plt.xlabel('ages in btw')\n",
    "plt.ylabel('age bar')\n",
    "plt.title('histogram of bar')\n",
    "#plt.legend()\n",
    "plt.show()"
   ]
  },
  {
   "cell_type": "code",
   "execution_count": 12,
   "metadata": {},
   "outputs": [
    {
     "data": {
      "image/png": "[encoded data removed]",
      "text/plain": [
       "<matplotlib.figure.Figure at 0x163f43efb70>"
      ]
     },
     "metadata": {},
     "output_type": "display_data"
    }
   ],
   "source": [
    "#scatter plot\n",
    "x = [1,2,3,4,5,6,7,8]\n",
    "y = [5,2,4,2,1,4,5,2]\n",
    "\n",
    "plt.scatter(x,y, label='scatter', color='b', s=55, marker=\"o\")\n",
    "\n",
    "plt.xlabel('x')\n",
    "plt.ylabel('y')\n",
    "plt.title('scatter Graph')\n",
    "plt.legend()\n",
    "plt.show()"
   ]
  },
  {
   "cell_type": "code",
   "execution_count": 13,
   "metadata": {},
   "outputs": [
    {
     "data": {
      "image/png": "[encoded data removed]",
      "text/plain": [
       "<matplotlib.figure.Figure at 0x163f42099e8>"
      ]
     },
     "metadata": {},
     "output_type": "display_data"
    }
   ],
   "source": [
    "#stack-plot\n",
    "days = [1,2,3,4,5]\n",
    "\n",
    "sleep = [7,8,6,11,7]\n",
    "eat   =  [2,3,4,3,2]\n",
    "work  =  [7,8,7,2,2]\n",
    "play  =  [8,5,7,8,13]\n",
    "\n",
    "\n",
    "plt.plot([],[],color='c', label='sleep', linewidth=5)\n",
    "plt.plot([],[],color='m', label='eat', linewidth=5)\n",
    "plt.plot([],[],color='k', label='work', linewidth=5)\n",
    "plt.plot([],[],color='r', label='play', linewidth=5)\n",
    "\n",
    "plt.stackplot(days, sleep,eat,work,play, colors=['c','m','k','r'])\n",
    "\n",
    "plt.xlabel('x')\n",
    "plt.ylabel('y')\n",
    "plt.title('stackplot Graph')\n",
    "plt.legend()\n",
    "plt.show()"
   ]
  },
  {
   "cell_type": "code",
   "execution_count": 16,
   "metadata": {},
   "outputs": [
    {
     "data": {
      "image/png": "[encoded data removed]",
      "text/plain": [
       "<matplotlib.figure.Figure at 0x163f4129a90>"
      ]
     },
     "metadata": {},
     "output_type": "display_data"
    }
   ],
   "source": [
    "#pie-plot\n",
    "slices = [8,12,2,9]\n",
    "activities = ['skyblue','violet','red','blue']\n",
    "cols = ['c','m','r','b']\n",
    "\n",
    "plt.pie(slices,\n",
    "        labels=activities,\n",
    "        colors=cols,\n",
    "        startangle=90,\n",
    "        shadow= False,\n",
    "        explode=(0,0.1,0,0),\n",
    "        autopct='%1.1f%%')\n",
    "\n",
    "plt.title('pie graph')\n",
    "plt.show()"
   ]
  },
  {
   "cell_type": "code",
   "execution_count": null,
   "metadata": {
    "collapsed": true
   },
   "outputs": [],
   "source": []
  }
 ],
 "metadata": {
  "kernelspec": {
   "display_name": "Python 3",
   "language": "python",
   "name": "python3"
  },
  "language_info": {
   "codemirror_mode": {
    "name": "ipython",
    "version": 3
   },
   "file_extension": ".py",
   "mimetype": "text/x-python",
   "name": "python",
   "nbconvert_exporter": "python",
   "pygments_lexer": "ipython3",
   "version": "3.6.1"
  }
 },
 "nbformat": 4,
 "nbformat_minor": 2
}
